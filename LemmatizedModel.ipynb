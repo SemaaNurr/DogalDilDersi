{
 "cells": [
  {
   "cell_type": "code",
   "execution_count": 4,
   "id": "a28b29b8-e049-4831-9f3a-a9337fc17413",
   "metadata": {},
   "outputs": [
    {
     "name": "stdout",
     "output_type": "stream",
     "text": [
      "✅ Lemmatized model kaydedildi: lemmatized_model_cbow_window2_dim100.model\n",
      "✅ Lemmatized model kaydedildi: lemmatized_model_skipgram_window2_dim100.model\n",
      "✅ Lemmatized model kaydedildi: lemmatized_model_cbow_window4_dim100.model\n",
      "✅ Lemmatized model kaydedildi: lemmatized_model_skipgram_window4_dim100.model\n",
      "✅ Lemmatized model kaydedildi: lemmatized_model_cbow_window2_dim300.model\n",
      "✅ Lemmatized model kaydedildi: lemmatized_model_skipgram_window2_dim300.model\n",
      "✅ Lemmatized model kaydedildi: lemmatized_model_cbow_window4_dim300.model\n",
      "✅ Lemmatized model kaydedildi: lemmatized_model_skipgram_window4_dim300.model\n"
     ]
    }
   ],
   "source": [
    "import pandas as pd\n",
    "from gensim.models import Word2Vec\n",
    "\n",
    "# CSV'den lemmatize edilmiş veriyi oku\n",
    "df = pd.read_csv(\"lemmatized_data.csv\")\n",
    "tokenized_lemmatized = df['text_lemmatized_sentences'].dropna().apply(lambda x: x.split()).tolist()\n",
    "\n",
    "# Parametreler\n",
    "parameters = [\n",
    "    {'model_type': 'cbow', 'window': 2, 'vector_size': 100},\n",
    "    {'model_type': 'skipgram', 'window': 2, 'vector_size': 100},\n",
    "    {'model_type': 'cbow', 'window': 4, 'vector_size': 100},\n",
    "    {'model_type': 'skipgram', 'window': 4, 'vector_size': 100},\n",
    "    {'model_type': 'cbow', 'window': 2, 'vector_size': 300},\n",
    "    {'model_type': 'skipgram', 'window': 2, 'vector_size': 300},\n",
    "    {'model_type': 'cbow', 'window': 4, 'vector_size': 300},\n",
    "    {'model_type': 'skipgram', 'window': 4, 'vector_size': 300}\n",
    "]\n",
    "\n",
    "# Model eğitme\n",
    "def train_word2vec_model(corpus, param, corpus_type):\n",
    "    sg = 1 if param['model_type'] == 'skipgram' else 0\n",
    "    model = Word2Vec(\n",
    "        sentences=corpus,\n",
    "        vector_size=param['vector_size'],\n",
    "        window=param['window'],\n",
    "        sg=sg,\n",
    "        min_count=1,\n",
    "        workers=4,\n",
    "        epochs=10\n",
    "    )\n",
    "    model_name = f\"{corpus_type}_model_{param['model_type']}_window{param['window']}_dim{param['vector_size']}.model\"\n",
    "    model.save(model_name)\n",
    "    print(f\"✅ Lemmatized model kaydedildi: {model_name}\")\n",
    "    return model\n",
    "\n",
    "# Lemmatized modelleri eğit\n",
    "lemmatized_models = []\n",
    "for param in parameters:\n",
    "    model = train_word2vec_model(tokenized_lemmatized, param, \"lemmatized\")\n",
    "    lemmatized_models.append((param, model))\n",
    "\n"
   ]
  },
  {
   "cell_type": "code",
   "execution_count": null,
   "id": "47432f2f-3996-481b-9808-83ce3c4b8175",
   "metadata": {},
   "outputs": [],
   "source": []
  }
 ],
 "metadata": {
  "kernelspec": {
   "display_name": "Python 3 (ipykernel)",
   "language": "python",
   "name": "python3"
  },
  "language_info": {
   "codemirror_mode": {
    "name": "ipython",
    "version": 3
   },
   "file_extension": ".py",
   "mimetype": "text/x-python",
   "name": "python",
   "nbconvert_exporter": "python",
   "pygments_lexer": "ipython3",
   "version": "3.10.6"
  }
 },
 "nbformat": 4,
 "nbformat_minor": 5
}

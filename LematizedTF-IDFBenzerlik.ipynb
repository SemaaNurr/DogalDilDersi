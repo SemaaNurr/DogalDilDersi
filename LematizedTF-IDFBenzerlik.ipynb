{
 "cells": [
  {
   "cell_type": "code",
   "execution_count": 2,
   "id": "e1c1bf62-0cc9-4aba-af04-8b4ea97e0b26",
   "metadata": {},
   "outputs": [
    {
     "name": "stdout",
     "output_type": "stream",
     "text": [
      "Seçilen Giriş Metni (Lemmatized): put cottage cheese wide bowl add egg sugar flour fork mix homogeneous mass turned sticky add flour half table small amount flour lay cottage two equal part roll sausage thickness sausage small identical piece sharp desired slightly add piece give rounded small pan bring water lower dumpling boiling water one stirring slightly slotted spoon dumpling come surface plus another finished dumpling pan plate pour jam example serve hot warm\n"
     ]
    }
   ],
   "source": [
    "import pandas as pd\n",
    "\n",
    "# 1. Lemmatized verisini yükleyin\n",
    "lemmatized_df = pd.read_csv('lemmatized_for_similarity.csv')  # Burada doğru dosya yolunu kullandığınızdan emin olun.\n",
    "\n",
    "# 2. Giriş metnini seçin (örneğin, ilk satırdan)\n",
    "sample_text_lemmatized = lemmatized_df['content'].iloc[0]  # İlk satırı seçiyoruz\n",
    "print(\"Seçilen Giriş Metni (Lemmatized):\", sample_text_lemmatized)\n"
   ]
  },
  {
   "cell_type": "code",
   "execution_count": 3,
   "id": "4c1864d3-da41-4c03-9097-80879a05a9d0",
   "metadata": {},
   "outputs": [
    {
     "name": "stdout",
     "output_type": "stream",
     "text": [
      "Giriş metnine en benzer 5 metin:\n",
      "doc1: put cottage cheese wide bowl add egg sugar flour fork mix homogeneous mass turned sticky add flour half table small amount flour lay cottage two equal part roll sausage thickness sausage small identical piece sharp desired slightly add piece give rounded small pan bring water lower dumpling boiling water one stirring slightly slotted spoon dumpling come surface plus another finished dumpling pan plate pour jam example serve hot warm (Benzerlik Skoru: 1.0000)\n",
      "doc32733: use house cottage cheese advise put dish add sugar carefully help spoon roll process grinding slightly salt cottage cheese drive one egg cottage cheese knead sugar homogeneous divide flour half add half mixture cottage cheese egg leave second half process flying lazy dumpling little flour throat apply cottage cheese mass help hand slightly roll curd dough sausage dough got mode small piece sharp pour three liter water pan put fire bring water boiled gradually boil lazy throw dumpling boiling water bring boil cook medium heat three finished dumpling caught pan slotted spoon put plate still hot well lubricate butter desired add little sour cream dumpling (Benzerlik Skoru: 0.5122)\n",
      "doc2701: put egg salt sugar flour wiped cottage cheese mix everything thoroughly homogeneous mass sausage cut slice roll flour lower boiling dumpling come slotted spoon plate pour melted granulated sugar sugar separately (Benzerlik Skoru: 0.4829)\n",
      "doc11802: peel potato cut large boil salted water put half butter pan make mashed cut onion fry vegetable oil beautiful ruddy flour bowl mix sour cream soda mix sour cream soda flour mix constantly stirring pouring water knead dough medium dough well wrap minute film heap dough slightly struggled potato add half fried onion mix everything finished dough quarter roll sausage cm thick piece chop piece thickness cm keep rest dough piece dough non blank dough napkin dry middle circle put incomplete teaspoon edge dumpling thoroughly desired decorate edge dumpling pigtail dumpling boiling salted water stir slightly stick bottom cook minute cooked dumpling slotted spoon put bowl remaining dumpling remaining fried onion desired bloomed eat dumpling sour cream (Benzerlik Skoru: 0.4511)\n",
      "doc1736: first need grind cottage cheese well fork pas take cottage cheese egg egg sugar salt vanilla flour grind everything uniformity board flour put dough sprinkle dough little flour roll thickness approximately cm option cut dough stripe cut mold funny figure ideal child roll sausage dough cm sausage obliquely piece cm put pot water water boil slightly salted lower dumpling soon dumpling pop cook another catch surpassed dumpling slotted spoon put dish layer layer sprinkle little bit sugar stick flavor jam honey (Benzerlik Skoru: 0.4399)\n"
     ]
    }
   ],
   "source": [
    "from sklearn.feature_extraction.text import TfidfVectorizer\n",
    "from sklearn.metrics.pairwise import cosine_similarity\n",
    "\n",
    "# 1. TF-IDF vektörleştiriciyi oluşturun\n",
    "vectorizer = TfidfVectorizer()\n",
    "\n",
    "# 2. Veri kümesindeki metinlerle TF-IDF matrisini oluşturun\n",
    "tfidf_matrix = vectorizer.fit_transform(lemmatized_df['content'])\n",
    "\n",
    "# 3. Seçilen giriş metnini de vektör haline getirelim\n",
    "sample_text_tfidf = vectorizer.transform([sample_text_lemmatized])\n",
    "\n",
    "# 4. Giriş metni ile diğer metinler arasındaki cosine similarity'yi hesaplayalım\n",
    "cosine_similarities = cosine_similarity(sample_text_tfidf, tfidf_matrix)\n",
    "\n",
    "# 5. En yüksek 5 benzer metni sıralayalım\n",
    "top_5_similarities = cosine_similarities[0].argsort()[-5:][::-1]\n",
    "\n",
    "# 6. Benzerlik sıralamasını yazdıralım\n",
    "print(\"Giriş metnine en benzer 5 metin:\")\n",
    "for idx in top_5_similarities:\n",
    "    print(f\"doc{idx+1}: {lemmatized_df['content'].iloc[idx]} (Benzerlik Skoru: {cosine_similarities[0][idx]:.4f})\")\n",
    "\n",
    "\n"
   ]
  },
  {
   "cell_type": "code",
   "execution_count": 4,
   "id": "b7d2d2c8-32ed-4e0f-8108-021551b7dd1c",
   "metadata": {},
   "outputs": [],
   "source": [
    "from gensim.models import Word2Vec\n",
    "\n",
    "# 1. Lemmatized Word2Vec modelini yükleyin\n",
    "lemmatized_model = Word2Vec.load(\"lemmatized_model_cbow_window2_dim100.model\")  # Burada doğru model dosyasını yüklediğinizden emin olun\n",
    "\n",
    "# 2. Stemmed Word2Vec modelini yükleyin\n",
    "stemmed_model = Word2Vec.load(\"stemmed_model_cbow_window2_dim100.model\")  # Burada doğru model dosyasını yüklediğinizden emin olun\n"
   ]
  },
  {
   "cell_type": "code",
   "execution_count": 5,
   "id": "569139f6-b055-4400-837c-20dfcfea15b5",
   "metadata": {},
   "outputs": [
    {
     "ename": "NameError",
     "evalue": "name 'sample_text_stemmed' is not defined",
     "output_type": "error",
     "traceback": [
      "\u001b[1;31m---------------------------------------------------------------------------\u001b[0m",
      "\u001b[1;31mNameError\u001b[0m                                 Traceback (most recent call last)",
      "Cell \u001b[1;32mIn[5], line 18\u001b[0m\n\u001b[0;32m     16\u001b[0m \u001b[38;5;66;03m# 2. Giriş metninin vektörünü alalım (lemmatized ve stemmed için)\u001b[39;00m\n\u001b[0;32m     17\u001b[0m sample_text_vector_lemmatized \u001b[38;5;241m=\u001b[39m get_average_word2vec(sample_text_lemmatized, lemmatized_model)\n\u001b[1;32m---> 18\u001b[0m sample_text_vector_stemmed \u001b[38;5;241m=\u001b[39m get_average_word2vec(\u001b[43msample_text_stemmed\u001b[49m, stemmed_model)\n",
      "\u001b[1;31mNameError\u001b[0m: name 'sample_text_stemmed' is not defined"
     ]
    }
   ],
   "source": [
    "import numpy as np\n",
    "\n",
    "# 1. Giriş metnindeki kelimelerin vektörlerini alalım (lemmatized)\n",
    "def get_average_word2vec(text, model):\n",
    "    words = text.split()\n",
    "    word_vectors = []\n",
    "    \n",
    "    for word in words:\n",
    "        if word in model.wv:\n",
    "            word_vectors.append(model.wv[word])  # Kelimenin vektörünü alıyoruz\n",
    "    \n",
    "    if len(word_vectors) == 0:\n",
    "        return np.zeros(model.vector_size)  # Eğer kelime yoksa sıfır vektörü döndür\n",
    "    return np.mean(word_vectors, axis=0)  # Vektörlerin ortalamasını alıyoruz\n",
    "\n",
    "# 2. Giriş metninin vektörünü alalım (lemmatized ve stemmed için)\n",
    "sample_text_vector_lemmatized = get_average_word2vec(sample_text_lemmatized, lemmatized_model)\n",
    "sample_text_vector_stemmed = get_average_word2vec(sample_text_stemmed, stemmed_model)\n"
   ]
  },
  {
   "cell_type": "code",
   "execution_count": null,
   "id": "8cc22c26-39cb-42e5-87cf-9e3465ac5515",
   "metadata": {},
   "outputs": [],
   "source": []
  }
 ],
 "metadata": {
  "kernelspec": {
   "display_name": "Python 3 (ipykernel)",
   "language": "python",
   "name": "python3"
  },
  "language_info": {
   "codemirror_mode": {
    "name": "ipython",
    "version": 3
   },
   "file_extension": ".py",
   "mimetype": "text/x-python",
   "name": "python",
   "nbconvert_exporter": "python",
   "pygments_lexer": "ipython3",
   "version": "3.10.6"
  }
 },
 "nbformat": 4,
 "nbformat_minor": 5
}

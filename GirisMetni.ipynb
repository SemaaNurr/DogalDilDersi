{
 "cells": [
  {
   "cell_type": "code",
   "execution_count": 1,
   "id": "2a5ef6c8-9886-41f8-b4ef-ed6c660abdfa",
   "metadata": {},
   "outputs": [
    {
     "name": "stdout",
     "output_type": "stream",
     "text": [
      "                           text_lemmatized_sentences  \\\n",
      "0  put cottage cheese wide bowl add egg sugar flo...   \n",
      "1  rinse buckwheat pour cup boiling water salt co...   \n",
      "2  grate carrot green apple middle zest juice hal...   \n",
      "3  mix egg piece loaf egg mixture vegetable oil side   \n",
      "4                              boil egg cheese taste   \n",
      "\n",
      "                     ingredient_lemmatized_sentences name_lemmatized_sentences  \n",
      "0  chicken egg piece soft cottage cheese g wheat ...            breakfast lazy  \n",
      "1  buckwheat cereal cup chopped parsley taste cho...           breek breakfast  \n",
      "2  carrot piece apple piece orange piece raisin g...       childhood breakfast  \n",
      "3  baton piece milk tablespoon chicken egg piece ...  french crouton breakfast  \n",
      "4  green salad bundle chicken egg piece tomato pi...             low breakfast  \n"
     ]
    }
   ],
   "source": [
    "import pandas as pd\n",
    "\n",
    "# Veri kümesini yükleyin\n",
    "df = pd.read_csv('lemmatized_data.csv')  # Burada doğru CSV dosyasının adını kullanmalısınız\n",
    "\n",
    "# Veri kümesinin ilk 5 satırını kontrol edin\n",
    "print(df.head())\n"
   ]
  },
  {
   "cell_type": "code",
   "execution_count": 2,
   "id": "7ef4c3fe-6948-4e06-9d54-ffef29bd6296",
   "metadata": {},
   "outputs": [
    {
     "name": "stdout",
     "output_type": "stream",
     "text": [
      "Lemmatized Giriş Metni:  put cottage cheese wide bowl add egg sugar flour fork mix homogeneous mass turned sticky add flour half table small amount flour lay cottage two equal part roll sausage thickness sausage small identical piece sharp desired slightly add piece give rounded small pan bring water lower dumpling boiling water one stirring slightly slotted spoon dumpling come surface plus another finished dumpling pan plate pour jam example serve hot warm\n"
     ]
    }
   ],
   "source": [
    "# Lemmatized metinlerinden bir cümle seçmek (Örnek)\n",
    "lemmatized_sample_text = df['text_lemmatized_sentences'].iloc[0]  # İlk satırı seçiyoruz\n",
    "print(\"Lemmatized Giriş Metni: \", lemmatized_sample_text)\n"
   ]
  },
  {
   "cell_type": "code",
   "execution_count": 4,
   "id": "80ffae4d-9eba-4a2c-b7f9-1956ffed3cd4",
   "metadata": {},
   "outputs": [
    {
     "name": "stdout",
     "output_type": "stream",
     "text": [
      "                              text_stemmed_sentences  \\\n",
      "0  put cottag chees wide bowl add egg sugar flour...   \n",
      "1  rins buckwheat pour cup boil water salt cover ...   \n",
      "2  grate carrot green appl middl zest juic halv c...   \n",
      "3        mix egg piec loaf egg mixtur veget oil side   \n",
      "4                                boil egg chees tast   \n",
      "\n",
      "                        ingredient_stemmed_sentences    name_stemmed_sentences  \n",
      "0  chicken egg piec soft cottag chees g wheat flo...            breakfast lazi  \n",
      "1  buckwheat cereal cup chop parsley tast chop ci...           breek breakfast  \n",
      "2  carrot piec appl piec orang piec raisin g hone...       childhood breakfast  \n",
      "3  baton piec milk tablespoon chicken egg piec sa...  french crouton breakfast  \n",
      "4  green salad bundl chicken egg piec tomato piec...             low breakfast  \n"
     ]
    }
   ],
   "source": [
    "import pandas as pd\n",
    "\n",
    "# Veri kümesini yükleyin\n",
    "df = pd.read_csv('stemmed_data.csv')  # Burada doğru CSV dosyasının adını kullanmalısınız\n",
    "\n",
    "# Veri kümesinin ilk 5 satırını kontrol edin\n",
    "print(df.head())"
   ]
  },
  {
   "cell_type": "code",
   "execution_count": 5,
   "id": "42887557-95d6-4941-a244-6493b1377bb8",
   "metadata": {},
   "outputs": [
    {
     "name": "stdout",
     "output_type": "stream",
     "text": [
      "Stemmed Giriş Metni:  put cottag chees wide bowl add egg sugar flour fork mix homogen mass turn sticki add flour half tabl small amount flour lay cottag two equal part roll sausag thick sausag small ident piec sharp desir slightli add piec give round small pan bring water lower dumpl boil water one stir slightli slot spoon dumpl come surfac plu anoth finish dumpl pan plate pour jam exampl serv hot warm\n"
     ]
    }
   ],
   "source": [
    "# Stemmed metinlerinden bir cümle seçmek (Örnek)\n",
    "stemmed_sample_text = df['text_stemmed_sentences'].iloc[0]  # İlk satırı seçiyoruz\n",
    "print(\"Stemmed Giriş Metni: \", stemmed_sample_text)\n"
   ]
  },
  {
   "cell_type": "code",
   "execution_count": null,
   "id": "ce5591f2-7bdb-4fe1-8e41-0baf06821024",
   "metadata": {},
   "outputs": [],
   "source": []
  }
 ],
 "metadata": {
  "kernelspec": {
   "display_name": "Python 3 (ipykernel)",
   "language": "python",
   "name": "python3"
  },
  "language_info": {
   "codemirror_mode": {
    "name": "ipython",
    "version": 3
   },
   "file_extension": ".py",
   "mimetype": "text/x-python",
   "name": "python",
   "nbconvert_exporter": "python",
   "pygments_lexer": "ipython3",
   "version": "3.10.6"
  }
 },
 "nbformat": 4,
 "nbformat_minor": 5
}

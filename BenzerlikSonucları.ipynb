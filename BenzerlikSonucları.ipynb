{
 "cells": [
  {
   "cell_type": "code",
   "execution_count": 1,
   "id": "13a2f00d-3abb-42bc-be8d-0d403a5e0f55",
   "metadata": {},
   "outputs": [
    {
     "name": "stdout",
     "output_type": "stream",
     "text": [
      "Tüm modeller için benzerlik sonuçları 'benzerlik_sonuclari_tum_modeller.csv' dosyasına kaydedildi.\n"
     ]
    }
   ],
   "source": [
    "import pandas as pd\n",
    "import numpy as np\n",
    "from gensim.models import Word2Vec\n",
    "\n",
    "# Veri setleri\n",
    "lemmatized_df = pd.read_csv('lemmatized_for_similarity.csv')\n",
    "stemmed_df = pd.read_csv('stemmed_for_similarity.csv')\n",
    "\n",
    "sample_text_lemmatized = lemmatized_df['content'].iloc[0]\n",
    "sample_text_stemmed = stemmed_df['content'].iloc[0]\n",
    "\n",
    "def get_average_word2vec(text, model):\n",
    "    words = text.split()\n",
    "    vectors = [model.wv[word] for word in words if word in model.wv]\n",
    "    if len(vectors) == 0:\n",
    "        return np.zeros(model.vector_size)\n",
    "    return np.mean(vectors, axis=0)\n",
    "\n",
    "model_paths = [\n",
    "    # Stemmed modeller\n",
    "    'stemmed_model_cbow_window2_dim100.model',\n",
    "    'stemmed_model_cbow_window2_dim300.model',\n",
    "    'stemmed_model_cbow_window4_dim100.model',\n",
    "    'stemmed_model_cbow_window4_dim300.model',\n",
    "    'stemmed_model_skipgram_window2_dim100.model',\n",
    "    'stemmed_model_skipgram_window2_dim300.model',\n",
    "    'stemmed_model_skipgram_window4_dim100.model',\n",
    "    'stemmed_model_skipgram_window4_dim300.model',\n",
    "    # Lemmatized modeller\n",
    "    'lemmatized_model_cbow_window2_dim100.model',\n",
    "    'lemmatized_model_cbow_window2_dim300.model',\n",
    "    'lemmatized_model_cbow_window4_dim100.model',\n",
    "    'lemmatized_model_cbow_window4_dim300.model',\n",
    "    'lemmatized_model_skipgram_window2_dim100.model',\n",
    "    'lemmatized_model_skipgram_window2_dim300.model',\n",
    "    'lemmatized_model_skipgram_window4_dim100.model',\n",
    "    'lemmatized_model_skipgram_window4_dim300.model'\n",
    "]\n",
    "\n",
    "results = []\n",
    "\n",
    "for model_path in model_paths:\n",
    "    model = Word2Vec.load(model_path)\n",
    "\n",
    "    if model_path.startswith('lemmatized'):\n",
    "        df = lemmatized_df\n",
    "        sample_text = sample_text_lemmatized\n",
    "    else:\n",
    "        df = stemmed_df\n",
    "        sample_text = sample_text_stemmed\n",
    "\n",
    "    sample_vec = get_average_word2vec(sample_text, model)\n",
    "\n",
    "    similarities = []\n",
    "    for idx, sentence in enumerate(df['content']):\n",
    "        sent_vec = get_average_word2vec(sentence, model)\n",
    "        if np.linalg.norm(sample_vec) == 0 or np.linalg.norm(sent_vec) == 0:\n",
    "            sim = 0.0\n",
    "        else:\n",
    "            sim = np.dot(sample_vec, sent_vec) / (np.linalg.norm(sample_vec) * np.linalg.norm(sent_vec))\n",
    "        similarities.append((idx, sim))\n",
    "\n",
    "    similarities.sort(key=lambda x: x[1], reverse=True)\n",
    "    top_5 = similarities[:5]\n",
    "\n",
    "    for idx, sim in top_5:\n",
    "        results.append({\n",
    "            'Model': model_path,\n",
    "            'Document_ID': f'doc{idx+1}',\n",
    "            'Similarity_Score': round(sim, 4),\n",
    "            'Text_Snippet': df['content'].iloc[idx][:100]  # İlk 100 karakterle sınırla\n",
    "        })\n",
    "\n",
    "# DataFrame oluştur ve CSV'ye kaydet\n",
    "results_df = pd.DataFrame(results)\n",
    "results_df.to_csv('benzerlik_sonuclari_tum_modeller.csv', index=False)\n",
    "\n",
    "print(\"Tüm modeller için benzerlik sonuçları 'benzerlik_sonuclari_tum_modeller.csv' dosyasına kaydedildi.\")\n"
   ]
  },
  {
   "cell_type": "code",
   "execution_count": null,
   "id": "027418a6-649a-4935-94ad-0d74fb834869",
   "metadata": {},
   "outputs": [],
   "source": []
  }
 ],
 "metadata": {
  "kernelspec": {
   "display_name": "Python 3 (ipykernel)",
   "language": "python",
   "name": "python3"
  },
  "language_info": {
   "codemirror_mode": {
    "name": "ipython",
    "version": 3
   },
   "file_extension": ".py",
   "mimetype": "text/x-python",
   "name": "python",
   "nbconvert_exporter": "python",
   "pygments_lexer": "ipython3",
   "version": "3.10.6"
  }
 },
 "nbformat": 4,
 "nbformat_minor": 5
}

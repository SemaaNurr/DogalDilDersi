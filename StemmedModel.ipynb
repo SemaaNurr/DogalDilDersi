{
 "cells": [
  {
   "cell_type": "code",
   "execution_count": 1,
   "id": "0d6686db-baee-4c2f-8cde-4e49de45c8dc",
   "metadata": {},
   "outputs": [
    {
     "name": "stdout",
     "output_type": "stream",
     "text": [
      "✅ Stemmed model kaydedildi: stemmed_model_cbow_window2_dim100.model\n",
      "✅ Stemmed model kaydedildi: stemmed_model_skipgram_window2_dim100.model\n",
      "✅ Stemmed model kaydedildi: stemmed_model_cbow_window4_dim100.model\n",
      "✅ Stemmed model kaydedildi: stemmed_model_skipgram_window4_dim100.model\n",
      "✅ Stemmed model kaydedildi: stemmed_model_cbow_window2_dim300.model\n",
      "✅ Stemmed model kaydedildi: stemmed_model_skipgram_window2_dim300.model\n",
      "✅ Stemmed model kaydedildi: stemmed_model_cbow_window4_dim300.model\n",
      "✅ Stemmed model kaydedildi: stemmed_model_skipgram_window4_dim300.model\n"
     ]
    }
   ],
   "source": [
    "import pandas as pd\n",
    "from gensim.models import Word2Vec\n",
    "\n",
    "# CSV'den stem yapılmış veriyi oku\n",
    "df = pd.read_csv(\"stemmed_data.csv\")\n",
    "tokenized_stemmed = df['text_stemmed_sentences'].dropna().apply(lambda x: x.split()).tolist()\n",
    "\n",
    "# Parametreler\n",
    "parameters = [\n",
    "    {'model_type': 'cbow', 'window': 2, 'vector_size': 100},\n",
    "    {'model_type': 'skipgram', 'window': 2, 'vector_size': 100},\n",
    "    {'model_type': 'cbow', 'window': 4, 'vector_size': 100},\n",
    "    {'model_type': 'skipgram', 'window': 4, 'vector_size': 100},\n",
    "    {'model_type': 'cbow', 'window': 2, 'vector_size': 300},\n",
    "    {'model_type': 'skipgram', 'window': 2, 'vector_size': 300},\n",
    "    {'model_type': 'cbow', 'window': 4, 'vector_size': 300},\n",
    "    {'model_type': 'skipgram', 'window': 4, 'vector_size': 300}\n",
    "]\n",
    "\n",
    "# Model eğitme fonksiyonu\n",
    "def train_word2vec_model(corpus, param, corpus_type):\n",
    "    sg = 1 if param['model_type'] == 'skipgram' else 0\n",
    "    model = Word2Vec(\n",
    "        sentences=corpus,\n",
    "        vector_size=param['vector_size'],\n",
    "        window=param['window'],\n",
    "        sg=sg,\n",
    "        min_count=1,\n",
    "        workers=4,\n",
    "        epochs=10\n",
    "    )\n",
    "    model_name = f\"{corpus_type}_model_{param['model_type']}_window{param['window']}_dim{param['vector_size']}.model\"\n",
    "    model.save(model_name)\n",
    "    print(f\"✅ Stemmed model kaydedildi: {model_name}\")\n",
    "    return model\n",
    "\n",
    "# Stemmed modelleri eğit\n",
    "stemmed_models = []\n",
    "for param in parameters:\n",
    "    model = train_word2vec_model(tokenized_stemmed, param, \"stemmed\")\n",
    "    stemmed_models.append((param, model))\n"
   ]
  },
  {
   "cell_type": "code",
   "execution_count": null,
   "id": "302fe0f7-866f-4720-bac0-4b8c25f98037",
   "metadata": {},
   "outputs": [],
   "source": []
  }
 ],
 "metadata": {
  "kernelspec": {
   "display_name": "Python 3 (ipykernel)",
   "language": "python",
   "name": "python3"
  },
  "language_info": {
   "codemirror_mode": {
    "name": "ipython",
    "version": 3
   },
   "file_extension": ".py",
   "mimetype": "text/x-python",
   "name": "python",
   "nbconvert_exporter": "python",
   "pygments_lexer": "ipython3",
   "version": "3.10.6"
  }
 },
 "nbformat": 4,
 "nbformat_minor": 5
}

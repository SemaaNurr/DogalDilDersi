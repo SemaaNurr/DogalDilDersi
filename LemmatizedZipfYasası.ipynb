{
 "cells": [
  {
   "cell_type": "code",
   "execution_count": 4,
   "id": "9418e277-6aa5-489a-a8ba-70e484102dd4",
   "metadata": {},
   "outputs": [
    {
     "data": {
      "text/html": [
       "<div>\n",
       "<style scoped>\n",
       "    .dataframe tbody tr th:only-of-type {\n",
       "        vertical-align: middle;\n",
       "    }\n",
       "\n",
       "    .dataframe tbody tr th {\n",
       "        vertical-align: top;\n",
       "    }\n",
       "\n",
       "    .dataframe thead th {\n",
       "        text-align: right;\n",
       "    }\n",
       "</style>\n",
       "<table border=\"1\" class=\"dataframe\">\n",
       "  <thead>\n",
       "    <tr style=\"text-align: right;\">\n",
       "      <th></th>\n",
       "      <th>name</th>\n",
       "      <th>lemmatized_text</th>\n",
       "    </tr>\n",
       "  </thead>\n",
       "  <tbody>\n",
       "    <tr>\n",
       "      <th>0</th>\n",
       "      <td>Breakfast for the lazy</td>\n",
       "      <td>['put', 'cottage', 'cheese', 'wide', 'bowl', '...</td>\n",
       "    </tr>\n",
       "    <tr>\n",
       "      <th>1</th>\n",
       "      <td>Breek breakfast</td>\n",
       "      <td>['rinse', 'buckwheat', 'pour', 'cup', 'boiling...</td>\n",
       "    </tr>\n",
       "    <tr>\n",
       "      <th>2</th>\n",
       "      <td>Childhood breakfast</td>\n",
       "      <td>['grate', 'carrot', 'green', 'apple', 'middle'...</td>\n",
       "    </tr>\n",
       "    <tr>\n",
       "      <th>3</th>\n",
       "      <td>French croutons for breakfast</td>\n",
       "      <td>['mix', 'egg', 'milksaltdip', 'piece', 'loaf',...</td>\n",
       "    </tr>\n",
       "    <tr>\n",
       "      <th>4</th>\n",
       "      <td>Low -calorie breakfast</td>\n",
       "      <td>['boil', 'egg', 'boiledcut', 'cheese', 'tomato...</td>\n",
       "    </tr>\n",
       "  </tbody>\n",
       "</table>\n",
       "</div>"
      ],
      "text/plain": [
       "                            name  \\\n",
       "0         Breakfast for the lazy   \n",
       "1                Breek breakfast   \n",
       "2            Childhood breakfast   \n",
       "3  French croutons for breakfast   \n",
       "4         Low -calorie breakfast   \n",
       "\n",
       "                                     lemmatized_text  \n",
       "0  ['put', 'cottage', 'cheese', 'wide', 'bowl', '...  \n",
       "1  ['rinse', 'buckwheat', 'pour', 'cup', 'boiling...  \n",
       "2  ['grate', 'carrot', 'green', 'apple', 'middle'...  \n",
       "3  ['mix', 'egg', 'milksaltdip', 'piece', 'loaf',...  \n",
       "4  ['boil', 'egg', 'boiledcut', 'cheese', 'tomato...  "
      ]
     },
     "execution_count": 4,
     "metadata": {},
     "output_type": "execute_result"
    }
   ],
   "source": [
    "import pandas as pd\n",
    "\n",
    "# CSV dosyasını yükleyelim\n",
    "file_path = 'lemmatized_data.csv'\n",
    "df = pd.read_csv(file_path)\n",
    "\n",
    "# İlk birkaç satırı inceleyelim\n",
    "df.head()"
   ]
  },
  {
   "cell_type": "code",
   "execution_count": 10,
   "id": "2a1e99f0-bb42-4558-8170-3f0058d15b45",
   "metadata": {},
   "outputs": [
    {
     "data": {
      "image/png": "[encoded data removed]",
      "text/plain": [
       "<Figure size 800x600 with 1 Axes>"
      ]
     },
     "metadata": {},
     "output_type": "display_data"
    }
   ],
   "source": [
    "import pandas as pd\n",
    "import matplotlib.pyplot as plt\n",
    "from collections import Counter\n",
    "import numpy as np\n",
    "\n",
    "# 'lemmatized_text' sütununu kullanarak veriyi işleme\n",
    "text_column = df['lemmatized_text'].dropna()\n",
    "\n",
    "# Tüm kelimeleri birleştir ve frekansları hesapla\n",
    "words = ' '.join(text_column).split()\n",
    "\n",
    "# Kelime frekanslarını say\n",
    "word_counts = Counter(words)\n",
    "\n",
    "# Kelime frekanslarını azalan sıraya göre sıralayın\n",
    "sorted_word_counts = sorted(word_counts.items(), key=lambda x: x[1], reverse=True)\n",
    "\n",
    "# Kelimeleri ve frekansları ayır\n",
    "words, freqs = zip(*sorted_word_counts)\n",
    "\n",
    "# Log-log grafiğini oluşturma\n",
    "plt.figure(figsize=(8, 6))\n",
    "\n",
    "# Kelime frekanslarının logaritmasını ve sıralamasını al\n",
    "log_freqs = np.log(freqs)\n",
    "log_ranks = np.log(range(1, len(freqs) + 1))\n",
    "\n",
    "plt.plot(log_ranks, log_freqs, marker='o', linestyle='None')\n",
    "\n",
    "# Grafik başlığı ve etiketler\n",
    "plt.title(\"Zipf Yasası - Log-Log Grafiği\")\n",
    "plt.xlabel(\"Log(Sıra)\")\n",
    "plt.ylabel(\"Log(Frekans)\")\n",
    "\n",
    "# Grafiği göster\n",
    "plt.grid(True)\n",
    "plt.show()\n"
   ]
  },
  {
   "cell_type": "code",
   "execution_count": 3,
   "id": "c9ea0528-2ae4-43ce-ab11-035d3f466003",
   "metadata": {},
   "outputs": [
    {
     "name": "stdout",
     "output_type": "stream",
     "text": [
      "Veri çerçevesi boyutu: (37637, 2)\n"
     ]
    }
   ],
   "source": [
    "\n",
    "\n",
    "print(f\"Veri çerçevesi boyutu: {df.shape}\")  # (satır sayısı, sütun sayısı)\n"
   ]
  },
  {
   "cell_type": "code",
   "execution_count": 4,
   "id": "6074bdc5-ab8f-46b4-91bf-6e05cfdd2a2e",
   "metadata": {},
   "outputs": [
    {
     "name": "stdout",
     "output_type": "stream",
     "text": [
      "Başlangıçtaki veri satırı: 37637\n"
     ]
    }
   ],
   "source": [
    "initial_rows = len(df)\n",
    "print(f\"Başlangıçtaki veri satırı: {initial_rows}\")\n"
   ]
  },
  {
   "cell_type": "code",
   "execution_count": 5,
   "id": "4c1c79f7-2dfe-4da1-bbe6-b52572a14ade",
   "metadata": {},
   "outputs": [
    {
     "name": "stdout",
     "output_type": "stream",
     "text": [
      "Temizlenmiş veri satırı: 37637\n"
     ]
    }
   ],
   "source": [
    "df_cleaned = df.dropna(subset=['lemmatized_text'])  # Boş satırları sil\n",
    "final_rows = len(df_cleaned)\n",
    "print(f\"Temizlenmiş veri satırı: {final_rows}\")\n"
   ]
  },
  {
   "cell_type": "code",
   "execution_count": 6,
   "id": "62b9bc79-e83d-4cdd-989a-7e04c683355a",
   "metadata": {},
   "outputs": [
    {
     "name": "stdout",
     "output_type": "stream",
     "text": [
      "Elenen satır sayısı: 0\n"
     ]
    }
   ],
   "source": [
    "print(f\"Elenen satır sayısı: {initial_rows - final_rows}\")\n"
   ]
  },
  {
   "cell_type": "code",
   "execution_count": 7,
   "id": "3f4d4524-d1d4-4010-ba46-7ba67e379d36",
   "metadata": {},
   "outputs": [
    {
     "name": "stdout",
     "output_type": "stream",
     "text": [
      "Toplam kelime sayısı: 2116393\n"
     ]
    }
   ],
   "source": [
    "words = [word for row in df_cleaned['lemmatized_text'] for word in eval(row)]\n",
    "print(f\"Toplam kelime sayısı: {len(words)}\")\n"
   ]
  },
  {
   "cell_type": "code",
   "execution_count": 8,
   "id": "adc0872a-4108-41cf-9ff6-c756cbba2453",
   "metadata": {},
   "outputs": [
    {
     "name": "stdout",
     "output_type": "stream",
     "text": [
      "Eşsiz kelime sayısı: 92216\n"
     ]
    }
   ],
   "source": [
    "unique_words = set(words)\n",
    "print(f\"Eşsiz kelime sayısı: {len(unique_words)}\")\n"
   ]
  },
  {
   "cell_type": "code",
   "execution_count": null,
   "id": "acab11a5-53cb-4009-94ce-56fab0aa14d3",
   "metadata": {},
   "outputs": [],
   "source": []
  }
 ],
 "metadata": {
  "kernelspec": {
   "display_name": "Python 3 (ipykernel)",
   "language": "python",
   "name": "python3"
  },
  "language_info": {
   "codemirror_mode": {
    "name": "ipython",
    "version": 3
   },
   "file_extension": ".py",
   "mimetype": "text/x-python",
   "name": "python",
   "nbconvert_exporter": "python",
   "pygments_lexer": "ipython3",
   "version": "3.13.2"
  }
 },
 "nbformat": 4,
 "nbformat_minor": 5
}

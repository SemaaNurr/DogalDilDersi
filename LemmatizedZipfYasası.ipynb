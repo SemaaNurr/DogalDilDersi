{
 "cells": [
  {
   "cell_type": "code",
   "execution_count": 1,
   "id": "de949a0d-284d-462c-8482-0b90de3f6f08",
   "metadata": {},
   "outputs": [
    {
     "data": {
      "text/html": [
       "<div>\n",
       "<style scoped>\n",
       "    .dataframe tbody tr th:only-of-type {\n",
       "        vertical-align: middle;\n",
       "    }\n",
       "\n",
       "    .dataframe tbody tr th {\n",
       "        vertical-align: top;\n",
       "    }\n",
       "\n",
       "    .dataframe thead th {\n",
       "        text-align: right;\n",
       "    }\n",
       "</style>\n",
       "<table border=\"1\" class=\"dataframe\">\n",
       "  <thead>\n",
       "    <tr style=\"text-align: right;\">\n",
       "      <th></th>\n",
       "      <th>text_lemmatized_sentences</th>\n",
       "      <th>ingredient_lemmatized_sentences</th>\n",
       "      <th>name_lemmatized_sentences</th>\n",
       "    </tr>\n",
       "  </thead>\n",
       "  <tbody>\n",
       "    <tr>\n",
       "      <th>0</th>\n",
       "      <td>put cottage cheese wide bowl add egg sugar flo...</td>\n",
       "      <td>chicken egg piece soft cottage cheese g wheat ...</td>\n",
       "      <td>breakfast lazy</td>\n",
       "    </tr>\n",
       "    <tr>\n",
       "      <th>1</th>\n",
       "      <td>rinse buckwheat pour cup boiling water salt co...</td>\n",
       "      <td>buckwheat cereal cup chopped parsley taste cho...</td>\n",
       "      <td>breek breakfast</td>\n",
       "    </tr>\n",
       "    <tr>\n",
       "      <th>2</th>\n",
       "      <td>grate carrot green apple middle zest juice hal...</td>\n",
       "      <td>carrot piece apple piece orange piece raisin g...</td>\n",
       "      <td>childhood breakfast</td>\n",
       "    </tr>\n",
       "    <tr>\n",
       "      <th>3</th>\n",
       "      <td>mix egg piece loaf egg mixture vegetable oil side</td>\n",
       "      <td>baton piece milk tablespoon chicken egg piece ...</td>\n",
       "      <td>french crouton breakfast</td>\n",
       "    </tr>\n",
       "    <tr>\n",
       "      <th>4</th>\n",
       "      <td>boil egg cheese taste</td>\n",
       "      <td>green salad bundle chicken egg piece tomato pi...</td>\n",
       "      <td>low breakfast</td>\n",
       "    </tr>\n",
       "  </tbody>\n",
       "</table>\n",
       "</div>"
      ],
      "text/plain": [
       "                           text_lemmatized_sentences  \\\n",
       "0  put cottage cheese wide bowl add egg sugar flo...   \n",
       "1  rinse buckwheat pour cup boiling water salt co...   \n",
       "2  grate carrot green apple middle zest juice hal...   \n",
       "3  mix egg piece loaf egg mixture vegetable oil side   \n",
       "4                              boil egg cheese taste   \n",
       "\n",
       "                     ingredient_lemmatized_sentences name_lemmatized_sentences  \n",
       "0  chicken egg piece soft cottage cheese g wheat ...            breakfast lazy  \n",
       "1  buckwheat cereal cup chopped parsley taste cho...           breek breakfast  \n",
       "2  carrot piece apple piece orange piece raisin g...       childhood breakfast  \n",
       "3  baton piece milk tablespoon chicken egg piece ...  french crouton breakfast  \n",
       "4  green salad bundle chicken egg piece tomato pi...             low breakfast  "
      ]
     },
     "execution_count": 1,
     "metadata": {},
     "output_type": "execute_result"
    }
   ],
   "source": [
    "import pandas as pd\n",
    "\n",
    "# CSV dosyasını yükleyelim\n",
    "file_path = 'lemmatized_data.csv'\n",
    "df = pd.read_csv(file_path)\n",
    "\n",
    "# İlk birkaç satırı inceleyelim\n",
    "df.head()"
   ]
  },
  {
   "cell_type": "code",
   "execution_count": 4,
   "id": "2c54dcfc-9670-4b8f-8965-1cbf6a2feec4",
   "metadata": {},
   "outputs": [
    {
     "data": {
      "image/png": "[encoded data removed]",
      "text/plain": [
       "<Figure size 800x600 with 1 Axes>"
      ]
     },
     "metadata": {},
     "output_type": "display_data"
    }
   ],
   "source": [
    "import pandas as pd\n",
    "import matplotlib.pyplot as plt\n",
    "from collections import Counter\n",
    "import numpy as np\n",
    "\n",
    "# NaN olmayan satırları al\n",
    "text_column = df['text_lemmatized_sentences'].dropna()\n",
    "\n",
    "# Tüm kelimeleri tek listeye düzleştir\n",
    "words = [token for sentence_list in text_column for sentence in sentence_list for token in sentence]\n",
    "\n",
    "# Kelime frekanslarını say\n",
    "word_counts = Counter(words)\n",
    "\n",
    "# Azalan sıralama\n",
    "sorted_word_counts = sorted(word_counts.items(), key=lambda x: x[1], reverse=True)\n",
    "\n",
    "# Kelimeleri ve frekansları ayır\n",
    "words, freqs = zip(*sorted_word_counts)\n",
    "\n",
    "# Log-log grafiği için frekansların ve sıraların log'u\n",
    "log_freqs = np.log(freqs)\n",
    "log_ranks = np.log(range(1, len(freqs) + 1))\n",
    "\n",
    "# Grafik çizimi\n",
    "plt.figure(figsize=(8, 6))\n",
    "plt.plot(log_ranks, log_freqs, marker='o', linestyle='None')\n",
    "\n",
    "# Grafik başlığı ve etiketler\n",
    "plt.title(\"Zipf Yasası - Log-Log Grafiği (Lemmatize edilmiş metin)\", fontsize=13)\n",
    "plt.xlabel(\"Log(Sıra)\", fontsize=11)\n",
    "plt.ylabel(\"Log(Frekans)\", fontsize=11)\n",
    "\n",
    "plt.grid(True)\n",
    "plt.tight_layout()\n",
    "plt.show()\n"
   ]
  },
  {
   "cell_type": "code",
   "execution_count": 5,
   "id": "42b19a36-aafc-4fad-a060-613c57679793",
   "metadata": {},
   "outputs": [
    {
     "name": "stdout",
     "output_type": "stream",
     "text": [
      "Veri çerçevesi boyutu: (37637, 3)\n"
     ]
    }
   ],
   "source": [
    "print(f\"Veri çerçevesi boyutu: {df.shape}\")  # (satır sayısı, sütun sayısı)"
   ]
  },
  {
   "cell_type": "code",
   "execution_count": 6,
   "id": "1f94b4b6-e182-4c34-935a-55b662e3b3bf",
   "metadata": {},
   "outputs": [
    {
     "name": "stdout",
     "output_type": "stream",
     "text": [
      "Başlangıçtaki veri satırı: 37637\n"
     ]
    }
   ],
   "source": [
    "initial_rows = len(df)\n",
    "print(f\"Başlangıçtaki veri satırı: {initial_rows}\")\n"
   ]
  },
  {
   "cell_type": "code",
   "execution_count": 8,
   "id": "0ce8d02f-9de3-4b63-b793-f82c49860260",
   "metadata": {},
   "outputs": [
    {
     "name": "stdout",
     "output_type": "stream",
     "text": [
      "Temizlenmiş veri satırı: 37637\n"
     ]
    }
   ],
   "source": [
    "df_cleaned = df.dropna(subset=['text_lemmatized_sentences'])  # Boş satırları sil\n",
    "final_rows = len(df_cleaned)\n",
    "print(f\"Temizlenmiş veri satırı: {final_rows}\")"
   ]
  },
  {
   "cell_type": "code",
   "execution_count": 9,
   "id": "b480d578-84dd-46c9-94d1-c6b12d740b61",
   "metadata": {},
   "outputs": [
    {
     "name": "stdout",
     "output_type": "stream",
     "text": [
      "Elenen satır sayısı: 0\n"
     ]
    }
   ],
   "source": [
    "print(f\"Elenen satır sayısı: {initial_rows - final_rows}\")"
   ]
  },
  {
   "cell_type": "code",
   "execution_count": 12,
   "id": "d72ef545-6e28-4c46-8533-9ba83752e8a6",
   "metadata": {},
   "outputs": [
    {
     "name": "stdout",
     "output_type": "stream",
     "text": [
      "Toplam kelime sayısı: 11502180\n"
     ]
    }
   ],
   "source": [
    "words = [word for sentence_list in df_cleaned['text_lemmatized_sentences'] \n",
    "         for sentence in sentence_list for word in sentence]\n",
    "\n",
    "print(f\"Toplam kelime sayısı: {len(words)}\")\n",
    "\n"
   ]
  },
  {
   "cell_type": "code",
   "execution_count": 13,
   "id": "224a3b13-b697-44a5-8c17-1fe8d1cab232",
   "metadata": {},
   "outputs": [
    {
     "name": "stdout",
     "output_type": "stream",
     "text": [
      "Eşsiz kelime sayısı: 43\n"
     ]
    }
   ],
   "source": [
    "unique_words = set(words)\n",
    "print(f\"Eşsiz kelime sayısı: {len(unique_words)}\")\n"
   ]
  },
  {
   "cell_type": "code",
   "execution_count": null,
   "id": "b8f9b7b5-2c36-498c-902e-ee7deb18a1f9",
   "metadata": {},
   "outputs": [],
   "source": []
  }
 ],
 "metadata": {
  "kernelspec": {
   "display_name": "Python 3 (ipykernel)",
   "language": "python",
   "name": "python3"
  },
  "language_info": {
   "codemirror_mode": {
    "name": "ipython",
    "version": 3
   },
   "file_extension": ".py",
   "mimetype": "text/x-python",
   "name": "python",
   "nbconvert_exporter": "python",
   "pygments_lexer": "ipython3",
   "version": "3.10.6"
  }
 },
 "nbformat": 4,
 "nbformat_minor": 5
}

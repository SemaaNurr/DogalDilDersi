{
 "cells": [
  {
   "cell_type": "code",
   "execution_count": 2,
   "id": "58c77405-02ab-43f1-8e3d-cb1db1b3602a",
   "metadata": {},
   "outputs": [
    {
     "name": "stdout",
     "output_type": "stream",
     "text": [
      "✅ Lemmatized dosyası başarıyla oluşturuldu.\n"
     ]
    }
   ],
   "source": [
    "import pandas as pd\n",
    "\n",
    "# 1. Lemmatized verisini yükleyin\n",
    "lemmatized_df = pd.read_csv('lemmatized_data.csv')  # Burada doğru dosya yolunu kullandığınızdan emin olun.\n",
    "\n",
    "# 2. 'document_id' sütununu oluşturun (her metin için benzersiz bir kimlik)\n",
    "lemmatized_df['document_id'] = ['doc' + str(i+1) for i in range(len(lemmatized_df))]\n",
    "\n",
    "# 3. 'content' sütununu oluşturun ve diğer gereksiz sütunları kaldırın\n",
    "lemmatized_df = lemmatized_df[['document_id', 'text_lemmatized_sentences']].rename(columns={'text_lemmatized_sentences': 'content'})\n",
    "\n",
    "# 4. Yeni CSV dosyasını kaydedin\n",
    "lemmatized_df.to_csv('lemmatized_for_similarity.csv', index=False)\n",
    "\n",
    "print(\"✅ Lemmatized dosyası başarıyla oluşturuldu.\")\n"
   ]
  },
  {
   "cell_type": "code",
   "execution_count": 4,
   "id": "d86dddb1-42c2-4170-b138-f9b942e0773c",
   "metadata": {},
   "outputs": [
    {
     "name": "stdout",
     "output_type": "stream",
     "text": [
      "✅ Stemmed dosyası başarıyla oluşturuldu.\n"
     ]
    }
   ],
   "source": [
    "# 1. Stemmed verisini yükleyin\n",
    "stemmed_df = pd.read_csv('stemmed_data.csv')  # Burada doğru dosya yolunu kullandığınızdan emin olun.\n",
    "\n",
    "# 2. 'document_id' sütununu oluşturun (her metin için benzersiz bir kimlik)\n",
    "stemmed_df['document_id'] = ['doc' + str(i+1) for i in range(len(stemmed_df))]\n",
    "\n",
    "# 3. 'content' sütununu oluşturun ve diğer gereksiz sütunları kaldırın\n",
    "stemmed_df = stemmed_df[['document_id', 'text_stemmed_sentences']].rename(columns={'text_stemmed_sentences': 'content'})\n",
    "\n",
    "# 4. Yeni CSV dosyasını kaydedin\n",
    "stemmed_df.to_csv('stemmed_for_similarity.csv', index=False)\n",
    "\n",
    "print(\"✅ Stemmed dosyası başarıyla oluşturuldu.\")\n"
   ]
  },
  {
   "cell_type": "code",
   "execution_count": null,
   "id": "abd21875-e8bd-42ba-9966-7e4030c69aa0",
   "metadata": {},
   "outputs": [],
   "source": []
  }
 ],
 "metadata": {
  "kernelspec": {
   "display_name": "Python 3 (ipykernel)",
   "language": "python",
   "name": "python3"
  },
  "language_info": {
   "codemirror_mode": {
    "name": "ipython",
    "version": 3
   },
   "file_extension": ".py",
   "mimetype": "text/x-python",
   "name": "python",
   "nbconvert_exporter": "python",
   "pygments_lexer": "ipython3",
   "version": "3.10.6"
  }
 },
 "nbformat": 4,
 "nbformat_minor": 5
}

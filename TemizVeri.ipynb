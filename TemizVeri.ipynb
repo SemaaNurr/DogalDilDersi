{
 "cells": [
  {
   "cell_type": "code",
   "execution_count": null,
   "id": "7cb65884-29ff-47b0-b2ce-f3fdec07d680",
   "metadata": {},
   "outputs": [],
   "source": [
    "#Çalışılacak olan Satırların temizliği"
   ]
  },
  {
   "cell_type": "code",
   "execution_count": 1,
   "id": "d81071f7-7155-406d-910b-40716e86ce4f",
   "metadata": {},
   "outputs": [
    {
     "name": "stdout",
     "output_type": "stream",
     "text": [
      "Requirement already satisfied: pandas in c:\\users\\msi\\appdata\\local\\programs\\python\\python310\\lib\\site-packages (2.2.3)\n",
      "Requirement already satisfied: numpy>=1.22.4 in c:\\users\\msi\\appdata\\local\\programs\\python\\python310\\lib\\site-packages (from pandas) (1.26.4)\n",
      "Requirement already satisfied: python-dateutil>=2.8.2 in c:\\users\\msi\\appdata\\local\\programs\\python\\python310\\lib\\site-packages (from pandas) (2.9.0.post0)\n",
      "Requirement already satisfied: pytz>=2020.1 in c:\\users\\msi\\appdata\\local\\programs\\python\\python310\\lib\\site-packages (from pandas) (2025.2)\n",
      "Requirement already satisfied: tzdata>=2022.7 in c:\\users\\msi\\appdata\\local\\programs\\python\\python310\\lib\\site-packages (from pandas) (2025.2)\n",
      "Requirement already satisfied: six>=1.5 in c:\\users\\msi\\appdata\\local\\programs\\python\\python310\\lib\\site-packages (from python-dateutil>=2.8.2->pandas) (1.17.0)\n"
     ]
    }
   ],
   "source": [
    "!pip install pandas"
   ]
  },
  {
   "cell_type": "code",
   "execution_count": 2,
   "id": "1f0ed737-7af1-4558-84f1-e81e71c768bc",
   "metadata": {
    "scrolled": true
   },
   "outputs": [
    {
     "data": {
      "text/html": [
       "<div>\n",
       "<style scoped>\n",
       "    .dataframe tbody tr th:only-of-type {\n",
       "        vertical-align: middle;\n",
       "    }\n",
       "\n",
       "    .dataframe tbody tr th {\n",
       "        vertical-align: top;\n",
       "    }\n",
       "\n",
       "    .dataframe thead th {\n",
       "        text-align: right;\n",
       "    }\n",
       "</style>\n",
       "<table border=\"1\" class=\"dataframe\">\n",
       "  <thead>\n",
       "    <tr style=\"text-align: right;\">\n",
       "      <th></th>\n",
       "      <th>name</th>\n",
       "      <th>text</th>\n",
       "      <th>ingredient</th>\n",
       "      <th>energy</th>\n",
       "      <th>type_kitchen</th>\n",
       "      <th>time_cook</th>\n",
       "      <th>link</th>\n",
       "      <th>label</th>\n",
       "    </tr>\n",
       "  </thead>\n",
       "  <tbody>\n",
       "    <tr>\n",
       "      <th>0</th>\n",
       "      <td>Breakfast for the lazy</td>\n",
       "      <td>Put cottage cheese in a wide bowl, add an egg,...</td>\n",
       "      <td>Chicken egg: 1 piece, soft cottage cheese: 200...</td>\n",
       "      <td>Calorius 87 kcal, proteins 8 grams, fats 2 gra...</td>\n",
       "      <td>Russian kitchen</td>\n",
       "      <td>15 minutes</td>\n",
       "      <td>https://eda.ru/recepty/zavtraki/zavtrak-dlja-l...</td>\n",
       "      <td>Breakfast</td>\n",
       "    </tr>\n",
       "    <tr>\n",
       "      <th>1</th>\n",
       "      <td>Breek breakfast</td>\n",
       "      <td>Rinse buckwheat, pour 2 cups of boiling water,...</td>\n",
       "      <td>Buckwheat cereal: 1 cup, chopped parsley: to t...</td>\n",
       "      <td>Calorius 284 kcal, proteins 6 grams, fats 11 g...</td>\n",
       "      <td>Russian kitchen</td>\n",
       "      <td>1 hour 20 minutes</td>\n",
       "      <td>https://eda.ru/recepty/zavtraki/grechnevij-zav...</td>\n",
       "      <td>Breakfast</td>\n",
       "    </tr>\n",
       "    <tr>\n",
       "      <th>2</th>\n",
       "      <td>Childhood breakfast</td>\n",
       "      <td>Grate the carrots and green apple on the middl...</td>\n",
       "      <td>Carrots: 1 piece, apple: 1 piece, oranges: 1 p...</td>\n",
       "      <td>Caloria 623 kcal, proteins 13 grams, fats 22 g...</td>\n",
       "      <td>Russian kitchen</td>\n",
       "      <td>5 minutes</td>\n",
       "      <td>https://eda.ru/recepty/zavtraki/zavtrak-detstv...</td>\n",
       "      <td>Breakfast</td>\n",
       "    </tr>\n",
       "    <tr>\n",
       "      <th>3</th>\n",
       "      <td>Full English breakfast</td>\n",
       "      <td>Heat the oven to 180 degrees, and the frying p...</td>\n",
       "      <td>Chicken egg: 2 pieces, pork sausages: 2 pieces...</td>\n",
       "      <td>Caloria 907 kcal, proteins 26 grams, fats 75 g...</td>\n",
       "      <td>British cuisine</td>\n",
       "      <td>30 minutes</td>\n",
       "      <td>https://eda.ru/recepty/zavtraki/polnyy-angliys...</td>\n",
       "      <td>Breakfast</td>\n",
       "    </tr>\n",
       "    <tr>\n",
       "      <th>4</th>\n",
       "      <td>French croutons for breakfast</td>\n",
       "      <td>Mix the egg with milk.Salt.Dip the pieces of t...</td>\n",
       "      <td>Baton: 3 pieces, milk: 2 tablespoons, chicken ...</td>\n",
       "      <td>Caloria 519 kcal, proteins 16 grams, fats 29 g...</td>\n",
       "      <td>French cuisine</td>\n",
       "      <td>10 minutes</td>\n",
       "      <td>https://eda.ru/recepty/zavtraki/francuzskie-gr...</td>\n",
       "      <td>Breakfast</td>\n",
       "    </tr>\n",
       "  </tbody>\n",
       "</table>\n",
       "</div>"
      ],
      "text/plain": [
       "                            name  \\\n",
       "0         Breakfast for the lazy   \n",
       "1                Breek breakfast   \n",
       "2            Childhood breakfast   \n",
       "3         Full English breakfast   \n",
       "4  French croutons for breakfast   \n",
       "\n",
       "                                                text  \\\n",
       "0  Put cottage cheese in a wide bowl, add an egg,...   \n",
       "1  Rinse buckwheat, pour 2 cups of boiling water,...   \n",
       "2  Grate the carrots and green apple on the middl...   \n",
       "3  Heat the oven to 180 degrees, and the frying p...   \n",
       "4  Mix the egg with milk.Salt.Dip the pieces of t...   \n",
       "\n",
       "                                          ingredient  \\\n",
       "0  Chicken egg: 1 piece, soft cottage cheese: 200...   \n",
       "1  Buckwheat cereal: 1 cup, chopped parsley: to t...   \n",
       "2  Carrots: 1 piece, apple: 1 piece, oranges: 1 p...   \n",
       "3  Chicken egg: 2 pieces, pork sausages: 2 pieces...   \n",
       "4  Baton: 3 pieces, milk: 2 tablespoons, chicken ...   \n",
       "\n",
       "                                              energy     type_kitchen  \\\n",
       "0  Calorius 87 kcal, proteins 8 grams, fats 2 gra...  Russian kitchen   \n",
       "1  Calorius 284 kcal, proteins 6 grams, fats 11 g...  Russian kitchen   \n",
       "2  Caloria 623 kcal, proteins 13 grams, fats 22 g...  Russian kitchen   \n",
       "3  Caloria 907 kcal, proteins 26 grams, fats 75 g...  British cuisine   \n",
       "4  Caloria 519 kcal, proteins 16 grams, fats 29 g...   French cuisine   \n",
       "\n",
       "           time_cook                                               link  \\\n",
       "0         15 minutes  https://eda.ru/recepty/zavtraki/zavtrak-dlja-l...   \n",
       "1  1 hour 20 minutes  https://eda.ru/recepty/zavtraki/grechnevij-zav...   \n",
       "2          5 minutes  https://eda.ru/recepty/zavtraki/zavtrak-detstv...   \n",
       "3         30 minutes  https://eda.ru/recepty/zavtraki/polnyy-angliys...   \n",
       "4         10 minutes  https://eda.ru/recepty/zavtraki/francuzskie-gr...   \n",
       "\n",
       "       label  \n",
       "0  Breakfast  \n",
       "1  Breakfast  \n",
       "2  Breakfast  \n",
       "3  Breakfast  \n",
       "4  Breakfast  "
      ]
     },
     "execution_count": 2,
     "metadata": {},
     "output_type": "execute_result"
    }
   ],
   "source": [
    "import pandas as pd\n",
    "\n",
    "# CSV dosyasını yükleyin\n",
    "df = pd.read_csv('food-dataset-en.csv', encoding='utf-8')\n",
    "\n",
    "# Dosyayı tablo olarak gösterin\n",
    "df.head()  # İlk birkaç satırı görüntülemek için"
   ]
  },
  {
   "cell_type": "code",
   "execution_count": 3,
   "id": "c6207778-6dcf-4606-85c0-8aa25bf54f2b",
   "metadata": {},
   "outputs": [
    {
     "name": "stdout",
     "output_type": "stream",
     "text": [
      "                            name  \\\n",
      "0         Breakfast for the lazy   \n",
      "1                Breek breakfast   \n",
      "2            Childhood breakfast   \n",
      "3         Full English breakfast   \n",
      "4  French croutons for breakfast   \n",
      "\n",
      "                                                text  \\\n",
      "0  Put cottage cheese in a wide bowl, add an egg,...   \n",
      "1  Rinse buckwheat, pour 2 cups of boiling water,...   \n",
      "2  Grate the carrots and green apple on the middl...   \n",
      "3  Heat the oven to 180 degrees, and the frying p...   \n",
      "4  Mix the egg with milk.Salt.Dip the pieces of t...   \n",
      "\n",
      "                                          ingredient  \n",
      "0  Chicken egg: 1 piece, soft cottage cheese: 200...  \n",
      "1  Buckwheat cereal: 1 cup, chopped parsley: to t...  \n",
      "2  Carrots: 1 piece, apple: 1 piece, oranges: 1 p...  \n",
      "3  Chicken egg: 2 pieces, pork sausages: 2 pieces...  \n",
      "4  Baton: 3 pieces, milk: 2 tablespoons, chicken ...  \n"
     ]
    }
   ],
   "source": [
    "# Mesela 'Yemek Adı' ve 'Tarif' sütunlarını silmek istiyorsak:\n",
    "df = df.drop(columns=['energy', 'type_kitchen','time_cook','link','label'])\n",
    "\n",
    "# Değişiklikleri kontrol edelim\n",
    "print(df.head())"
   ]
  },
  {
   "cell_type": "code",
   "execution_count": 4,
   "id": "a4a1d097-81cf-402d-903e-d72bfae03a86",
   "metadata": {
    "scrolled": true
   },
   "outputs": [
    {
     "name": "stdout",
     "output_type": "stream",
     "text": [
      "                            name  \\\n",
      "0         Breakfast for the lazy   \n",
      "1                Breek breakfast   \n",
      "2            Childhood breakfast   \n",
      "4  French croutons for breakfast   \n",
      "5         Low -calorie breakfast   \n",
      "\n",
      "                                                text  \\\n",
      "0  Put cottage cheese in a wide bowl, add an egg,...   \n",
      "1  Rinse buckwheat, pour 2 cups of boiling water,...   \n",
      "2  Grate the carrots and green apple on the middl...   \n",
      "4  Mix the egg with milk.Salt.Dip the pieces of t...   \n",
      "5  Boil the egg boiled.Cut the cheese and tomatoe...   \n",
      "\n",
      "                                          ingredient  \n",
      "0  Chicken egg: 1 piece, soft cottage cheese: 200...  \n",
      "1  Buckwheat cereal: 1 cup, chopped parsley: to t...  \n",
      "2  Carrots: 1 piece, apple: 1 piece, oranges: 1 p...  \n",
      "4  Baton: 3 pieces, milk: 2 tablespoons, chicken ...  \n",
      "5  Green salad: 0.1 bundles, chicken eggs: 1 piec...  \n"
     ]
    }
   ],
   "source": [
    "# Başlık satırını (ilk satır) silmek için, satırları index numarasına göre silebiliriz. \n",
    "# `index=0` ile ilk satır (başlık) silinir.\n",
    "df = df.drop(index=3,)\n",
    "\n",
    "# Değişiklikleri kontrol et\n",
    "print(df.head())\n",
    "\n",
    "# Yeni CSV dosyasına kaydet\n",
    "df.to_csv(r\"food.csv\", index=False, encoding='utf-8')"
   ]
  },
  {
   "cell_type": "code",
   "execution_count": null,
   "id": "3cbe0f84-6f14-4876-9d0d-deda017b9ec6",
   "metadata": {},
   "outputs": [],
   "source": []
  }
 ],
 "metadata": {
  "kernelspec": {
   "display_name": "Python 3 (ipykernel)",
   "language": "python",
   "name": "python3"
  },
  "language_info": {
   "codemirror_mode": {
    "name": "ipython",
    "version": 3
   },
   "file_extension": ".py",
   "mimetype": "text/x-python",
   "name": "python",
   "nbconvert_exporter": "python",
   "pygments_lexer": "ipython3",
   "version": "3.10.6"
  }
 },
 "nbformat": 4,
 "nbformat_minor": 5
}

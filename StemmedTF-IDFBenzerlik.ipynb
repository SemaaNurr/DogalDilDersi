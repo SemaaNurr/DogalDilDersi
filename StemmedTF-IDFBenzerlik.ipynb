{
 "cells": [
  {
   "cell_type": "code",
   "execution_count": 2,
   "id": "9ecc9071-ada5-4add-bb7b-785e122dbb61",
   "metadata": {},
   "outputs": [
    {
     "name": "stdout",
     "output_type": "stream",
     "text": [
      "Seçilen Giriş Metni (Stemmed): put cottag chees wide bowl add egg sugar flour fork mix homogen mass turn sticki add flour half tabl small amount flour lay cottag two equal part roll sausag thick sausag small ident piec sharp desir slightli add piec give round small pan bring water lower dumpl boil water one stir slightli slot spoon dumpl come surfac plu anoth finish dumpl pan plate pour jam exampl serv hot warm\n"
     ]
    }
   ],
   "source": [
    "import pandas as pd\n",
    "\n",
    "# 1. Lemmatized verisini yükleyin\n",
    "stemmed_df = pd.read_csv('stemmed_for_similarity.csv')  # Burada doğru dosya yolunu kullandığınızdan emin olun.\n",
    "\n",
    "# 2. Giriş metnini seçin (örneğin, ilk satırdan)\n",
    "sample_text_stemmed = stemmed_df['content'].iloc[0]  # İlk satırı seçiyoruz\n",
    "print(\"Seçilen Giriş Metni (Stemmed):\", sample_text_stemmed)"
   ]
  },
  {
   "cell_type": "code",
   "execution_count": 3,
   "id": "59406bf0-75aa-4435-bfd7-5113c18eedf0",
   "metadata": {},
   "outputs": [
    {
     "name": "stdout",
     "output_type": "stream",
     "text": [
      "Giriş metnine en benzer 5 metin:\n",
      "doc1: put cottag chees wide bowl add egg sugar flour fork mix homogen mass turn sticki add flour half tabl small amount flour lay cottag two equal part roll sausag thick sausag small ident piec sharp desir slightli add piec give round small pan bring water lower dumpl boil water one stir slightli slot spoon dumpl come surfac plu anoth finish dumpl pan plate pour jam exampl serv hot warm (Benzerlik Skoru: 1.0000)\n",
      "doc32733: use hous cottag chees advis put dish add sugar care help spoon roll process grind slightli salt cottag chees drive one egg cottag chees knead sugar homogen divid flour half add half mixtur cottag chees egg leav second half process fli lazi dumpl littl flour throat appli cottag chees mass help hand slightli roll curd dough sausag dough got mode small piec sharp pour three liter water pan put fire bring water boil gradual boil lazi throw dumpl boil water bring boil cook medium heat three finish dumpl caught pan slot spoon put plate still hot well lubric butter desir add littl sour cream dumpl (Benzerlik Skoru: 0.5373)\n",
      "doc2701: put egg salt sugar flour wipe cottag chees mix everyth thoroughli homogen mass sausag cut slice roll flour lower boil dumpl come slot spoon plate pour melt granul sugar sugar separ (Benzerlik Skoru: 0.5131)\n",
      "doc4038: sift flour middl mound make recess drive egg mix everyth cold milk water add stir salt sugar pour steep dough leav minut chop cabbag pour boil water let stand minut drain squeez cabbag add salt egg butter margarin stir dough dumpl sever part roll one har cm thick cut small piec slightli take cut side roll mm thick thick minc meat middl tortilla fold half pinch edg make also cut circl glass round stitch boot flour cool form serv dumpl lower boil salt water kg dumpl liter water bring boil cook readi dumpl slot spoon put dish season serv dumpl pour sour cream (Benzerlik Skoru: 0.4929)\n",
      "doc11802: peel potato cut larg boil salt water put half butter pan make mash cut onion fri veget oil beauti ruddi flour bowl mix sour cream soda mix sour cream soda flour mix constantli stir pour water knead dough medium dough well wrap minut film heap dough slightli struggl potato add half fri onion mix everyth finish dough quarter roll sausag cm thick piec chop piec thick cm keep rest dough piec dough non blank dough napkin dri middl circl put incomplet teaspoon edg dumpl thoroughli desir decor edg dumpl pigtail dumpl boil salt water stir slightli stick bottom cook minut cook dumpl slot spoon put bowl remain dumpl remain fri onion desir bloom eat dumpl sour cream (Benzerlik Skoru: 0.4745)\n"
     ]
    }
   ],
   "source": [
    "from sklearn.feature_extraction.text import TfidfVectorizer\n",
    "from sklearn.metrics.pairwise import cosine_similarity\n",
    "\n",
    "# 1. TF-IDF vektörleştiriciyi oluşturun\n",
    "vectorizer = TfidfVectorizer()\n",
    "\n",
    "# 2. Veri kümesindeki metinlerle TF-IDF matrisini oluşturun\n",
    "tfidf_matrix = vectorizer.fit_transform(stemmed_df['content'])\n",
    "\n",
    "# 3. Seçilen giriş metnini de vektör haline getirelim\n",
    "sample_text_tfidf = vectorizer.transform([sample_text_stemmed])\n",
    "\n",
    "# 4. Giriş metni ile diğer metinler arasındaki cosine similarity'yi hesaplayalım\n",
    "cosine_similarities = cosine_similarity(sample_text_tfidf, tfidf_matrix)\n",
    "\n",
    "# 5. En yüksek 5 benzer metni sıralayalım\n",
    "top_5_similarities = cosine_similarities[0].argsort()[-5:][::-1]\n",
    "\n",
    "# 6. Benzerlik sıralamasını yazdıralım\n",
    "print(\"Giriş metnine en benzer 5 metin:\")\n",
    "for idx in top_5_similarities:\n",
    "    print(f\"doc{idx+1}: {stemmed_df['content'].iloc[idx]} (Benzerlik Skoru: {cosine_similarities[0][idx]:.4f})\")"
   ]
  },
  {
   "cell_type": "code",
   "execution_count": null,
   "id": "5d1cc714-e235-454e-a5d1-35ef6c89bcac",
   "metadata": {},
   "outputs": [],
   "source": []
  }
 ],
 "metadata": {
  "kernelspec": {
   "display_name": "Python 3 (ipykernel)",
   "language": "python",
   "name": "python3"
  },
  "language_info": {
   "codemirror_mode": {
    "name": "ipython",
    "version": 3
   },
   "file_extension": ".py",
   "mimetype": "text/x-python",
   "name": "python",
   "nbconvert_exporter": "python",
   "pygments_lexer": "ipython3",
   "version": "3.10.6"
  }
 },
 "nbformat": 4,
 "nbformat_minor": 5
}

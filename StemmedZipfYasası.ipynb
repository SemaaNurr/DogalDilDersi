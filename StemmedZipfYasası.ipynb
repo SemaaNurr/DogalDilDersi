{
 "cells": [
  {
   "cell_type": "code",
   "execution_count": 1,
   "id": "e0b8ac1b-d980-4c25-9fbe-c3c459dd25f1",
   "metadata": {},
   "outputs": [
    {
     "data": {
      "text/html": [
       "<div>\n",
       "<style scoped>\n",
       "    .dataframe tbody tr th:only-of-type {\n",
       "        vertical-align: middle;\n",
       "    }\n",
       "\n",
       "    .dataframe tbody tr th {\n",
       "        vertical-align: top;\n",
       "    }\n",
       "\n",
       "    .dataframe thead th {\n",
       "        text-align: right;\n",
       "    }\n",
       "</style>\n",
       "<table border=\"1\" class=\"dataframe\">\n",
       "  <thead>\n",
       "    <tr style=\"text-align: right;\">\n",
       "      <th></th>\n",
       "      <th>name</th>\n",
       "      <th>stemmed_text</th>\n",
       "    </tr>\n",
       "  </thead>\n",
       "  <tbody>\n",
       "    <tr>\n",
       "      <th>0</th>\n",
       "      <td>Breakfast for the lazy</td>\n",
       "      <td>['put', 'cottag', 'chees', 'wide', 'bowl', 'ad...</td>\n",
       "    </tr>\n",
       "    <tr>\n",
       "      <th>1</th>\n",
       "      <td>Breek breakfast</td>\n",
       "      <td>['rins', 'buckwheat', 'pour', 'cup', 'boil', '...</td>\n",
       "    </tr>\n",
       "    <tr>\n",
       "      <th>2</th>\n",
       "      <td>Childhood breakfast</td>\n",
       "      <td>['grate', 'carrot', 'green', 'appl', 'middl', ...</td>\n",
       "    </tr>\n",
       "    <tr>\n",
       "      <th>3</th>\n",
       "      <td>French croutons for breakfast</td>\n",
       "      <td>['mix', 'egg', 'milksaltdip', 'piec', 'loaf', ...</td>\n",
       "    </tr>\n",
       "    <tr>\n",
       "      <th>4</th>\n",
       "      <td>Low -calorie breakfast</td>\n",
       "      <td>['boil', 'egg', 'boiledcut', 'chees', 'tomatoe...</td>\n",
       "    </tr>\n",
       "  </tbody>\n",
       "</table>\n",
       "</div>"
      ],
      "text/plain": [
       "                            name  \\\n",
       "0         Breakfast for the lazy   \n",
       "1                Breek breakfast   \n",
       "2            Childhood breakfast   \n",
       "3  French croutons for breakfast   \n",
       "4         Low -calorie breakfast   \n",
       "\n",
       "                                        stemmed_text  \n",
       "0  ['put', 'cottag', 'chees', 'wide', 'bowl', 'ad...  \n",
       "1  ['rins', 'buckwheat', 'pour', 'cup', 'boil', '...  \n",
       "2  ['grate', 'carrot', 'green', 'appl', 'middl', ...  \n",
       "3  ['mix', 'egg', 'milksaltdip', 'piec', 'loaf', ...  \n",
       "4  ['boil', 'egg', 'boiledcut', 'chees', 'tomatoe...  "
      ]
     },
     "execution_count": 1,
     "metadata": {},
     "output_type": "execute_result"
    }
   ],
   "source": [
    "import pandas as pd\n",
    "\n",
    "# CSV dosyasını yükleyelim\n",
    "file_path = 'stemmed_data.csv'\n",
    "df = pd.read_csv(file_path)\n",
    "\n",
    "# İlk birkaç satırı inceleyelim\n",
    "df.head()"
   ]
  },
  {
   "cell_type": "code",
   "execution_count": 9,
   "id": "c0ee0e2f-add9-462d-a843-2f4bb9eb39a0",
   "metadata": {},
   "outputs": [
    {
     "data": {
      "image/png": "[encoded data removed]",
      "text/plain": [
       "<Figure size 800x600 with 1 Axes>"
      ]
     },
     "metadata": {},
     "output_type": "display_data"
    }
   ],
   "source": [
    "import pandas as pd\n",
    "import matplotlib.pyplot as plt\n",
    "from collections import Counter\n",
    "import numpy as np\n",
    "\n",
    "# CSV dosyasını yükleyelim\n",
    "file_path = \"stemmed_data.csv\"\n",
    "df = pd.read_csv(file_path)\n",
    "\n",
    "# 'stemmed_text' sütunundaki kelimeleri liste olarak alalım\n",
    "text_column = df['stemmed_text'].dropna()\n",
    "\n",
    "# Liste içindeki kelimeleri birleştirerek metin haline getirelim\n",
    "words = [word for row in text_column for word in eval(row)]  # Eğer veriler string olarak saklanmışsa eval() kullan\n",
    "\n",
    "# Kelime frekanslarını say\n",
    "word_counts = Counter(words)\n",
    "\n",
    "# Kelime frekanslarını azalan sıraya göre sıralayın\n",
    "sorted_word_counts = sorted(word_counts.items(), key=lambda x: x[1], reverse=True)\n",
    "\n",
    "# Kelimeleri ve frekansları ayır\n",
    "words, freqs = zip(*sorted_word_counts)\n",
    "\n",
    "# Log-log grafiğini oluşturma\n",
    "plt.figure(figsize=(8, 6))\n",
    "\n",
    "# Kelime frekanslarının logaritmasını ve sıralamasını al\n",
    "log_freqs = np.log(freqs)\n",
    "log_ranks = np.log(range(1, len(freqs) + 1))\n",
    "\n",
    "plt.plot(log_ranks, log_freqs, marker='o', linestyle='None')\n",
    "\n",
    "# Grafik başlığı ve etiketler\n",
    "plt.title(\"Zipf Yasası - Log-Log Grafiği\")\n",
    "plt.xlabel(\"Log(Sıra)\")\n",
    "plt.ylabel(\"Log(Frekans)\")\n",
    "\n",
    "# Grafiği göster\n",
    "plt.grid(True)\n",
    "plt.show()\n"
   ]
  },
  {
   "cell_type": "code",
   "execution_count": 10,
   "id": "bf212ab3-6ff4-4a91-b3b9-cf79f8795dcc",
   "metadata": {},
   "outputs": [
    {
     "name": "stdout",
     "output_type": "stream",
     "text": [
      "Veri çerçevesi boyutu: (37637, 2)\n"
     ]
    }
   ],
   "source": [
    "print(f\"Veri çerçevesi boyutu: {df.shape}\")  # (satır sayısı, sütun sayısı)\n"
   ]
  },
  {
   "cell_type": "code",
   "execution_count": 11,
   "id": "2a2f6d59-57c1-4d4b-9747-56bf8d1e3959",
   "metadata": {},
   "outputs": [
    {
     "name": "stdout",
     "output_type": "stream",
     "text": [
      "Toplam kelime sayısı: 87748\n",
      "Eşsiz kelime sayısı: 87748\n"
     ]
    }
   ],
   "source": [
    "unique_words = set(words)\n",
    "print(f\"Toplam kelime sayısı: {len(words)}\")\n",
    "print(f\"Eşsiz kelime sayısı: {len(unique_words)}\")\n"
   ]
  },
  {
   "cell_type": "code",
   "execution_count": 13,
   "id": "75123bc1-1094-4741-857a-091dda083e92",
   "metadata": {},
   "outputs": [
    {
     "name": "stdout",
     "output_type": "stream",
     "text": [
      "Başlangıçtaki veri satırı: 37637\n",
      "Temizlenmiş veri satırı: 37637\n",
      "Elenen satır sayısı: 0\n"
     ]
    }
   ],
   "source": [
    "initial_rows = len(df)\n",
    "df_cleaned = df.dropna(subset=['stemmed_text'])  # Boş satırları sil\n",
    "final_rows = len(df_cleaned)\n",
    "\n",
    "print(f\"Başlangıçtaki veri satırı: {initial_rows}\")\n",
    "print(f\"Temizlenmiş veri satırı: {final_rows}\")\n",
    "print(f\"Elenen satır sayısı: {initial_rows - final_rows}\")\n"
   ]
  },
  {
   "cell_type": "code",
   "execution_count": null,
   "id": "3325767f-b520-4cbb-ba4b-9d8eaf404642",
   "metadata": {},
   "outputs": [],
   "source": []
  }
 ],
 "metadata": {
  "kernelspec": {
   "display_name": "Python 3 (ipykernel)",
   "language": "python",
   "name": "python3"
  },
  "language_info": {
   "codemirror_mode": {
    "name": "ipython",
    "version": 3
   },
   "file_extension": ".py",
   "mimetype": "text/x-python",
   "name": "python",
   "nbconvert_exporter": "python",
   "pygments_lexer": "ipython3",
   "version": "3.13.2"
  }
 },
 "nbformat": 4,
 "nbformat_minor": 5
}

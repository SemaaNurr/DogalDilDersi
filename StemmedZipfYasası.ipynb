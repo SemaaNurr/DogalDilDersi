{
 "cells": [
  {
   "cell_type": "code",
   "execution_count": 2,
   "id": "205b8877-b735-4c29-8430-0a4a479d2983",
   "metadata": {},
   "outputs": [
    {
     "data": {
      "text/html": [
       "<div>\n",
       "<style scoped>\n",
       "    .dataframe tbody tr th:only-of-type {\n",
       "        vertical-align: middle;\n",
       "    }\n",
       "\n",
       "    .dataframe tbody tr th {\n",
       "        vertical-align: top;\n",
       "    }\n",
       "\n",
       "    .dataframe thead th {\n",
       "        text-align: right;\n",
       "    }\n",
       "</style>\n",
       "<table border=\"1\" class=\"dataframe\">\n",
       "  <thead>\n",
       "    <tr style=\"text-align: right;\">\n",
       "      <th></th>\n",
       "      <th>text_stemmed_sentences</th>\n",
       "      <th>ingredient_stemmed_sentences</th>\n",
       "      <th>name_stemmed_sentences</th>\n",
       "    </tr>\n",
       "  </thead>\n",
       "  <tbody>\n",
       "    <tr>\n",
       "      <th>0</th>\n",
       "      <td>put cottag chees wide bowl add egg sugar flour...</td>\n",
       "      <td>chicken egg piec soft cottag chees g wheat flo...</td>\n",
       "      <td>breakfast lazi</td>\n",
       "    </tr>\n",
       "    <tr>\n",
       "      <th>1</th>\n",
       "      <td>rins buckwheat pour cup boil water salt cover ...</td>\n",
       "      <td>buckwheat cereal cup chop parsley tast chop ci...</td>\n",
       "      <td>breek breakfast</td>\n",
       "    </tr>\n",
       "    <tr>\n",
       "      <th>2</th>\n",
       "      <td>grate carrot green appl middl zest juic halv c...</td>\n",
       "      <td>carrot piec appl piec orang piec raisin g hone...</td>\n",
       "      <td>childhood breakfast</td>\n",
       "    </tr>\n",
       "    <tr>\n",
       "      <th>3</th>\n",
       "      <td>mix egg piec loaf egg mixtur veget oil side</td>\n",
       "      <td>baton piec milk tablespoon chicken egg piec sa...</td>\n",
       "      <td>french crouton breakfast</td>\n",
       "    </tr>\n",
       "    <tr>\n",
       "      <th>4</th>\n",
       "      <td>boil egg chees tast</td>\n",
       "      <td>green salad bundl chicken egg piec tomato piec...</td>\n",
       "      <td>low breakfast</td>\n",
       "    </tr>\n",
       "  </tbody>\n",
       "</table>\n",
       "</div>"
      ],
      "text/plain": [
       "                              text_stemmed_sentences  \\\n",
       "0  put cottag chees wide bowl add egg sugar flour...   \n",
       "1  rins buckwheat pour cup boil water salt cover ...   \n",
       "2  grate carrot green appl middl zest juic halv c...   \n",
       "3        mix egg piec loaf egg mixtur veget oil side   \n",
       "4                                boil egg chees tast   \n",
       "\n",
       "                        ingredient_stemmed_sentences    name_stemmed_sentences  \n",
       "0  chicken egg piec soft cottag chees g wheat flo...            breakfast lazi  \n",
       "1  buckwheat cereal cup chop parsley tast chop ci...           breek breakfast  \n",
       "2  carrot piec appl piec orang piec raisin g hone...       childhood breakfast  \n",
       "3  baton piec milk tablespoon chicken egg piec sa...  french crouton breakfast  \n",
       "4  green salad bundl chicken egg piec tomato piec...             low breakfast  "
      ]
     },
     "execution_count": 2,
     "metadata": {},
     "output_type": "execute_result"
    }
   ],
   "source": [
    "import pandas as pd\n",
    "\n",
    "# CSV dosyasını yükleyelim\n",
    "file_path = 'stemmed_data.csv'\n",
    "df = pd.read_csv(file_path)\n",
    "\n",
    "# İlk birkaç satırı inceleyelim\n",
    "df.head()"
   ]
  },
  {
   "cell_type": "code",
   "execution_count": 3,
   "id": "c0e56054-fe67-45ce-a71f-624feb362f31",
   "metadata": {},
   "outputs": [
    {
     "data": {
      "image/png": "[encoded data removed]",
      "text/plain": [
       "<Figure size 800x600 with 1 Axes>"
      ]
     },
     "metadata": {},
     "output_type": "display_data"
    }
   ],
   "source": [
    "import pandas as pd\n",
    "import matplotlib.pyplot as plt\n",
    "from collections import Counter\n",
    "import numpy as np\n",
    "\n",
    "# NaN olmayan satırları al\n",
    "text_column = df['text_stemmed_sentences'].dropna()\n",
    "\n",
    "# Tüm kelimeleri tek listeye düzleştir\n",
    "words = [token for sentence_list in text_column for sentence in sentence_list for token in sentence]\n",
    "\n",
    "# Kelime frekanslarını say\n",
    "word_counts = Counter(words)\n",
    "\n",
    "# Azalan sıralama\n",
    "sorted_word_counts = sorted(word_counts.items(), key=lambda x: x[1], reverse=True)\n",
    "\n",
    "# Kelimeleri ve frekansları ayır\n",
    "words, freqs = zip(*sorted_word_counts)\n",
    "\n",
    "# Log-log grafiği için frekansların ve sıraların log'u\n",
    "log_freqs = np.log(freqs)\n",
    "log_ranks = np.log(range(1, len(freqs) + 1))\n",
    "\n",
    "# Grafik çizimi\n",
    "plt.figure(figsize=(8, 6))\n",
    "plt.plot(log_ranks, log_freqs, marker='o', linestyle='None')\n",
    "\n",
    "# Grafik başlığı ve etiketler\n",
    "plt.title(\"Zipf Yasası - Log-Log Grafiği (Stemmed edilmiş metin)\", fontsize=13)\n",
    "plt.xlabel(\"Log(Sıra)\", fontsize=11)\n",
    "plt.ylabel(\"Log(Frekans)\", fontsize=11)\n",
    "\n",
    "plt.grid(True)\n",
    "plt.tight_layout()\n",
    "plt.show()"
   ]
  },
  {
   "cell_type": "code",
   "execution_count": 4,
   "id": "4e1ab4e1-993d-49e0-bd68-cf0699987a04",
   "metadata": {},
   "outputs": [
    {
     "name": "stdout",
     "output_type": "stream",
     "text": [
      "Veri çerçevesi boyutu: (37637, 3)\n"
     ]
    }
   ],
   "source": [
    "print(f\"Veri çerçevesi boyutu: {df.shape}\")  # (satır sayısı, sütun sayısı)"
   ]
  },
  {
   "cell_type": "code",
   "execution_count": 5,
   "id": "b91576f3-839b-4e79-a4e0-242d020579a5",
   "metadata": {},
   "outputs": [
    {
     "name": "stdout",
     "output_type": "stream",
     "text": [
      "Başlangıçtaki veri satırı: 37637\n"
     ]
    }
   ],
   "source": [
    "initial_rows = len(df)\n",
    "print(f\"Başlangıçtaki veri satırı: {initial_rows}\")"
   ]
  },
  {
   "cell_type": "code",
   "execution_count": 6,
   "id": "aa3d623c-b4f2-4fac-ac30-9702c12fae0b",
   "metadata": {},
   "outputs": [
    {
     "name": "stdout",
     "output_type": "stream",
     "text": [
      "Temizlenmiş veri satırı: 37637\n"
     ]
    }
   ],
   "source": [
    "df_cleaned = df.dropna(subset=['text_stemmed_sentences'])  # Boş satırları sil\n",
    "final_rows = len(df_cleaned)\n",
    "print(f\"Temizlenmiş veri satırı: {final_rows}\")"
   ]
  },
  {
   "cell_type": "code",
   "execution_count": 7,
   "id": "669a6ff5-5a01-4a45-bbdd-75f371c5fe7d",
   "metadata": {},
   "outputs": [
    {
     "name": "stdout",
     "output_type": "stream",
     "text": [
      "Elenen satır sayısı: 0\n"
     ]
    }
   ],
   "source": [
    "print(f\"Elenen satır sayısı: {initial_rows - final_rows}\")"
   ]
  },
  {
   "cell_type": "code",
   "execution_count": 9,
   "id": "0ab4ff44-2366-49ba-a259-dd69498a3760",
   "metadata": {},
   "outputs": [
    {
     "name": "stdout",
     "output_type": "stream",
     "text": [
      "Toplam kelime sayısı: 10527248\n"
     ]
    }
   ],
   "source": [
    "words = [word for sentence_list in df_cleaned['text_stemmed_sentences'] \n",
    "         for sentence in sentence_list for word in sentence]\n",
    "\n",
    "print(f\"Toplam kelime sayısı: {len(words)}\")\n",
    "\n"
   ]
  },
  {
   "cell_type": "code",
   "execution_count": 10,
   "id": "a4011aeb-575d-4a39-96b5-82834db58b78",
   "metadata": {},
   "outputs": [
    {
     "name": "stdout",
     "output_type": "stream",
     "text": [
      "Eşsiz kelime sayısı: 43\n"
     ]
    }
   ],
   "source": [
    "unique_words = set(words)\n",
    "print(f\"Eşsiz kelime sayısı: {len(unique_words)}\")\n"
   ]
  },
  {
   "cell_type": "code",
   "execution_count": null,
   "id": "e24147c6-f623-4a82-a3a2-5b382b82d3e9",
   "metadata": {},
   "outputs": [],
   "source": []
  }
 ],
 "metadata": {
  "kernelspec": {
   "display_name": "Python 3 (ipykernel)",
   "language": "python",
   "name": "python3"
  },
  "language_info": {
   "codemirror_mode": {
    "name": "ipython",
    "version": 3
   },
   "file_extension": ".py",
   "mimetype": "text/x-python",
   "name": "python",
   "nbconvert_exporter": "python",
   "pygments_lexer": "ipython3",
   "version": "3.10.6"
  }
 },
 "nbformat": 4,
 "nbformat_minor": 5
}

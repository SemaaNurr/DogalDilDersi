{
 "cells": [
  {
   "cell_type": "code",
   "execution_count": 1,
   "id": "d24633d7-3082-433a-9c21-bebbfce5d663",
   "metadata": {},
   "outputs": [],
   "source": [
    "import pandas as pd\n",
    "import numpy as np\n",
    "from gensim.models import Word2Vec\n",
    "from sklearn.feature_extraction.text import TfidfVectorizer\n",
    "from sklearn.metrics.pairwise import cosine_similarity\n",
    "\n",
    "# 1. Lemmatized ve Stemmed verilerini yükleyin\n",
    "lemmatized_df = pd.read_csv('lemmatized_for_similarity.csv')  # Burada doğru dosya yolunu kullandığınızdan emin olun\n",
    "stemmed_df = pd.read_csv('stemmed_for_similarity.csv')  # Burada doğru dosya yolunu kullandığınızdan emin olun\n",
    "\n"
   ]
  },
  {
   "cell_type": "code",
   "execution_count": 2,
   "id": "5dbdb1fc-49d7-4f95-8c8c-877b063703d0",
   "metadata": {},
   "outputs": [
    {
     "name": "stdout",
     "output_type": "stream",
     "text": [
      "Seçilen Giriş Metni (Lemmatized): put cottage cheese wide bowl add egg sugar flour fork mix homogeneous mass turned sticky add flour half table small amount flour lay cottage two equal part roll sausage thickness sausage small identical piece sharp desired slightly add piece give rounded small pan bring water lower dumpling boiling water one stirring slightly slotted spoon dumpling come surface plus another finished dumpling pan plate pour jam example serve hot warm\n",
      "Seçilen Giriş Metni (Stemmed): put cottag chees wide bowl add egg sugar flour fork mix homogen mass turn sticki add flour half tabl small amount flour lay cottag two equal part roll sausag thick sausag small ident piec sharp desir slightli add piec give round small pan bring water lower dumpl boil water one stir slightli slot spoon dumpl come surfac plu anoth finish dumpl pan plate pour jam exampl serv hot warm\n"
     ]
    }
   ],
   "source": [
    "# 2. Giriş metnini seçin (örneğin, ilk satırdan)\n",
    "sample_text_lemmatized = lemmatized_df['content'].iloc[0]  # Lemmatized giriş metni\n",
    "sample_text_stemmed = stemmed_df['content'].iloc[0]  # Stemmed giriş metni\n",
    "\n",
    "print(\"Seçilen Giriş Metni (Lemmatized):\", sample_text_lemmatized)\n",
    "print(\"Seçilen Giriş Metni (Stemmed):\", sample_text_stemmed)\n"
   ]
  },
  {
   "cell_type": "code",
   "execution_count": 3,
   "id": "34b340a9-e73d-436c-8070-84cbd2fda6e6",
   "metadata": {},
   "outputs": [],
   "source": [
    "# 3. Word2Vec modelini yükleyin (veya eğitin)\n",
    "lemmatized_model = Word2Vec.load(\"lemmatized_model_cbow_window2_dim100.model\")  # Lemmatized model\n",
    "stemmed_model = Word2Vec.load(\"stemmed_model_cbow_window2_dim100.model\")  # Stemmed model\n"
   ]
  },
  {
   "cell_type": "code",
   "execution_count": 4,
   "id": "0ffbcb2e-ba36-42e1-be02-1b4fd6117583",
   "metadata": {},
   "outputs": [],
   "source": [
    "# 4. Giriş metnindeki kelimelerin vektörlerini alalım\n",
    "def get_average_word2vec(text, model):\n",
    "    words = text.split()\n",
    "    word_vectors = []\n",
    "    \n",
    "    for word in words:\n",
    "        if word in model.wv:\n",
    "            word_vectors.append(model.wv[word])  # Kelimenin vektörünü alıyoruz\n",
    "    \n",
    "    if len(word_vectors) == 0:\n",
    "        return np.zeros(model.vector_size)  # Eğer kelime yoksa sıfır vektörü döndür\n",
    "    return np.mean(word_vectors, axis=0)  # Vektörlerin ortalamasını alıyoruz\n",
    "\n",
    "# 5. Giriş metninin vektörünü alalım (lemmatized ve stemmed için)\n",
    "sample_text_vector_lemmatized = get_average_word2vec(sample_text_lemmatized, lemmatized_model)\n",
    "sample_text_vector_stemmed = get_average_word2vec(sample_text_stemmed, stemmed_model)\n"
   ]
  },
  {
   "cell_type": "code",
   "execution_count": 5,
   "id": "b324f07f-765f-4dc9-9aa4-90a7a3711f1c",
   "metadata": {},
   "outputs": [
    {
     "name": "stdout",
     "output_type": "stream",
     "text": [
      "Lemmatized ile en benzer 5 metin:\n",
      "doc1: put cottage cheese wide bowl add egg sugar flour fork mix homogeneous mass turned sticky add flour half table small amount flour lay cottage two equal part roll sausage thickness sausage small identical piece sharp desired slightly add piece give rounded small pan bring water lower dumpling boiling water one stirring slightly slotted spoon dumpling come surface plus another finished dumpling pan plate pour jam example serve hot warm (Benzerlik Skoru: 1.0000)\n",
      "doc11802: peel potato cut large boil salted water put half butter pan make mashed cut onion fry vegetable oil beautiful ruddy flour bowl mix sour cream soda mix sour cream soda flour mix constantly stirring pouring water knead dough medium dough well wrap minute film heap dough slightly struggled potato add half fried onion mix everything finished dough quarter roll sausage cm thick piece chop piece thickness cm keep rest dough piece dough non blank dough napkin dry middle circle put incomplete teaspoon edge dumpling thoroughly desired decorate edge dumpling pigtail dumpling boiling salted water stir slightly stick bottom cook minute cooked dumpling slotted spoon put bowl remaining dumpling remaining fried onion desired bloomed eat dumpling sour cream (Benzerlik Skoru: 0.9433)\n",
      "doc4038: sift flour middle mound make recess drive egg mix everything cold milk water add stir salt sugar pour steep dough leave minute chop cabbage pour boiling water let stand minute drain squeeze cabbage add salt egg butter margarine stir dough dumpling several part roll one harness cm thick cut small piece slightly take cut side roll mm thick thickness minced meat middle tortilla fold half pinch edge making also cut circle glass round stitched boot flour cool formed serving dumpling lowered boiling salted water kg dumpling liter water bring boil cook ready dumpling slotted spoon put dish season serving dumpling pour sour cream (Benzerlik Skoru: 0.9383)\n",
      "doc32733: use house cottage cheese advise put dish add sugar carefully help spoon roll process grinding slightly salt cottage cheese drive one egg cottage cheese knead sugar homogeneous divide flour half add half mixture cottage cheese egg leave second half process flying lazy dumpling little flour throat apply cottage cheese mass help hand slightly roll curd dough sausage dough got mode small piece sharp pour three liter water pan put fire bring water boiled gradually boil lazy throw dumpling boiling water bring boil cook medium heat three finished dumpling caught pan slotted spoon put plate still hot well lubricate butter desired add little sour cream dumpling (Benzerlik Skoru: 0.9357)\n",
      "doc14846: peel potato cut large boil salted water put half butter pan make mashed cut onion fry vegetable oil beautiful ruddy potato add half fried onion mix everything liver cook twist meat mashed sour cream soda mix sour cream soda salt flour mix constantly stirring pouring water knead dough medium dough well wrap minute film heap dough slightly struggled weat finished dough quarter roll sausage thickness cm piece cut piece thickness cm keep rest dough piece dough non blank dough napkin dry middle circle put incomplete teaspoon edge dumpling thoroughly dumpling boiling salted water stir slightly stick bottom cook minute popping cooked dumpling slotted spoon put bowl remaining dumpling remaining fried onion desired bloomed eat dumpling sour cream (Benzerlik Skoru: 0.9328)\n",
      "\n",
      "Stemmed ile en benzer 5 metin:\n",
      "doc1: put cottag chees wide bowl add egg sugar flour fork mix homogen mass turn sticki add flour half tabl small amount flour lay cottag two equal part roll sausag thick sausag small ident piec sharp desir slightli add piec give round small pan bring water lower dumpl boil water one stir slightli slot spoon dumpl come surfac plu anoth finish dumpl pan plate pour jam exampl serv hot warm (Benzerlik Skoru: 1.0000)\n",
      "doc4038: sift flour middl mound make recess drive egg mix everyth cold milk water add stir salt sugar pour steep dough leav minut chop cabbag pour boil water let stand minut drain squeez cabbag add salt egg butter margarin stir dough dumpl sever part roll one har cm thick cut small piec slightli take cut side roll mm thick thick minc meat middl tortilla fold half pinch edg make also cut circl glass round stitch boot flour cool form serv dumpl lower boil salt water kg dumpl liter water bring boil cook readi dumpl slot spoon put dish season serv dumpl pour sour cream (Benzerlik Skoru: 0.9413)\n",
      "doc32733: use hous cottag chees advis put dish add sugar care help spoon roll process grind slightli salt cottag chees drive one egg cottag chees knead sugar homogen divid flour half add half mixtur cottag chees egg leav second half process fli lazi dumpl littl flour throat appli cottag chees mass help hand slightli roll curd dough sausag dough got mode small piec sharp pour three liter water pan put fire bring water boil gradual boil lazi throw dumpl boil water bring boil cook medium heat three finish dumpl caught pan slot spoon put plate still hot well lubric butter desir add littl sour cream dumpl (Benzerlik Skoru: 0.9396)\n",
      "doc11802: peel potato cut larg boil salt water put half butter pan make mash cut onion fri veget oil beauti ruddi flour bowl mix sour cream soda mix sour cream soda flour mix constantli stir pour water knead dough medium dough well wrap minut film heap dough slightli struggl potato add half fri onion mix everyth finish dough quarter roll sausag cm thick piec chop piec thick cm keep rest dough piec dough non blank dough napkin dri middl circl put incomplet teaspoon edg dumpl thoroughli desir decor edg dumpl pigtail dumpl boil salt water stir slightli stick bottom cook minut cook dumpl slot spoon put bowl remain dumpl remain fri onion desir bloom eat dumpl sour cream (Benzerlik Skoru: 0.9380)\n",
      "doc3278: stir kefir egg well add soda salt flour cup knead steep dough bowl let stand piec dough form form sausag diamet cm cut sausag piec cm thick dip piec flour side roll middl mug put half teaspoon blueberri mix sugar thoroughli pinch dumpl slightli salt water minut serv desir sprinkl sugar sour cream cream pour melt butter (Benzerlik Skoru: 0.9306)\n"
     ]
    }
   ],
   "source": [
    "# 6. Lemmatized metinlerle benzerlik hesaplayalım\n",
    "similarities_lemmatized = []\n",
    "for i in range(len(lemmatized_df)):\n",
    "    doc_vector = get_average_word2vec(lemmatized_df['content'].iloc[i], lemmatized_model)  # Her metnin vektörünü alıyoruz\n",
    "    similarity = np.dot(sample_text_vector_lemmatized, doc_vector) / (np.linalg.norm(sample_text_vector_lemmatized) * np.linalg.norm(doc_vector))  # Cosine similarity hesaplıyoruz\n",
    "    similarities_lemmatized.append((i, similarity))  # Sonuçları kaydediyoruz\n",
    "\n",
    "# 7. Stemmed metinlerle benzerlik hesaplayalım\n",
    "similarities_stemmed = []\n",
    "for i in range(len(stemmed_df)):\n",
    "    doc_vector = get_average_word2vec(stemmed_df['content'].iloc[i], stemmed_model)  # Her metnin vektörünü alıyoruz\n",
    "    similarity = np.dot(sample_text_vector_stemmed, doc_vector) / (np.linalg.norm(sample_text_vector_stemmed) * np.linalg.norm(doc_vector))  # Cosine similarity hesaplıyoruz\n",
    "    similarities_stemmed.append((i, similarity))  # Sonuçları kaydediyoruz\n",
    "\n",
    "# 8. En yüksek 5 benzer metni sıralayalım (lemmatized ve stemmed)\n",
    "similarities_lemmatized.sort(key=lambda x: x[1], reverse=True)  # Benzerlik skorlarına göre sıralıyoruz\n",
    "similarities_stemmed.sort(key=lambda x: x[1], reverse=True)  # Benzerlik skorlarına göre sıralıyoruz\n",
    "\n",
    "# 9. Sonuçları yazdıralım\n",
    "print(\"Lemmatized ile en benzer 5 metin:\")\n",
    "for idx, similarity in similarities_lemmatized[:5]:\n",
    "    print(f\"doc{idx+1}: {lemmatized_df['content'].iloc[idx]} (Benzerlik Skoru: {similarity:.4f})\")\n",
    "\n",
    "print(\"\\nStemmed ile en benzer 5 metin:\")\n",
    "for idx, similarity in similarities_stemmed[:5]:\n",
    "    print(f\"doc{idx+1}: {stemmed_df['content'].iloc[idx]} (Benzerlik Skoru: {similarity:.4f})\")\n"
   ]
  },
  {
   "cell_type": "code",
   "execution_count": null,
   "id": "f4c37a35-00de-42d8-9243-02bfb7c1e171",
   "metadata": {},
   "outputs": [],
   "source": []
  }
 ],
 "metadata": {
  "kernelspec": {
   "display_name": "Python 3 (ipykernel)",
   "language": "python",
   "name": "python3"
  },
  "language_info": {
   "codemirror_mode": {
    "name": "ipython",
    "version": 3
   },
   "file_extension": ".py",
   "mimetype": "text/x-python",
   "name": "python",
   "nbconvert_exporter": "python",
   "pygments_lexer": "ipython3",
   "version": "3.10.6"
  }
 },
 "nbformat": 4,
 "nbformat_minor": 5
}
